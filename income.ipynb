{
 "metadata": {
  "language_info": {
   "codemirror_mode": {
    "name": "ipython",
    "version": 3
   },
   "file_extension": ".py",
   "mimetype": "text/x-python",
   "name": "python",
   "nbconvert_exporter": "python",
   "pygments_lexer": "ipython3",
   "version": "3.7.6-final"
  },
  "orig_nbformat": 2,
  "kernelspec": {
   "name": "python_defaultSpec_1597860741859",
   "display_name": "Python 3.7.6 64-bit ('base': conda)"
  }
 },
 "nbformat": 4,
 "nbformat_minor": 2,
 "cells": [
  {
   "cell_type": "code",
   "execution_count": 1,
   "metadata": {},
   "outputs": [],
   "source": [
    "import pandas as pd\n",
    "import numpy as np\n",
    "import matplotlib.pyplot as plt \n"
   ]
  },
  {
   "cell_type": "markdown",
   "metadata": {},
   "source": []
  },
  {
   "cell_type": "markdown",
   "metadata": {},
   "source": [
    "'tr' denotes train dataset | \n",
    "'te' denotes test dataset"
   ]
  },
  {
   "cell_type": "markdown",
   "metadata": {},
   "source": []
  },
  {
   "cell_type": "code",
   "execution_count": 2,
   "metadata": {},
   "outputs": [],
   "source": [
    "tr = pd.read_csv('http://archive.ics.uci.edu/ml/machine-learning-databases/adult/adult.data')\n",
    "te = pd.read_csv('http://archive.ics.uci.edu/ml/machine-learning-databases/adult/adult.test',skiprows=[0])\n"
   ]
  },
  {
   "cell_type": "code",
   "execution_count": 3,
   "metadata": {},
   "outputs": [],
   "source": [
    "col_labels = ['age', 'workclass', 'FinalWeight', 'education', 'education_num', 'marital_status',\n",
    "'occupation','relationship', 'race', 'sex', 'capital_gain', 'capital_loss', 'hours_per_week',\n",
    "'native_country', 'wage_class']\n",
    "tr.columns=col_labels\n",
    "te.columns=col_labels"
   ]
  },
  {
   "cell_type": "code",
   "execution_count": 4,
   "metadata": {},
   "outputs": [
    {
     "output_type": "execute_result",
     "data": {
      "text/plain": "       age          workclass  FinalWeight    education  education_num  \\\n0       50   Self-emp-not-inc        83311    Bachelors             13   \n1       38            Private       215646      HS-grad              9   \n2       53            Private       234721         11th              7   \n3       28            Private       338409    Bachelors             13   \n4       37            Private       284582      Masters             14   \n...    ...                ...          ...          ...            ...   \n32555   27            Private       257302   Assoc-acdm             12   \n32556   40            Private       154374      HS-grad              9   \n32557   58            Private       151910      HS-grad              9   \n32558   22            Private       201490      HS-grad              9   \n32559   52       Self-emp-inc       287927      HS-grad              9   \n\n            marital_status          occupation    relationship    race  \\\n0       Married-civ-spouse     Exec-managerial         Husband   White   \n1                 Divorced   Handlers-cleaners   Not-in-family   White   \n2       Married-civ-spouse   Handlers-cleaners         Husband   Black   \n3       Married-civ-spouse      Prof-specialty            Wife   Black   \n4       Married-civ-spouse     Exec-managerial            Wife   White   \n...                    ...                 ...             ...     ...   \n32555   Married-civ-spouse        Tech-support            Wife   White   \n32556   Married-civ-spouse   Machine-op-inspct         Husband   White   \n32557              Widowed        Adm-clerical       Unmarried   White   \n32558        Never-married        Adm-clerical       Own-child   White   \n32559   Married-civ-spouse     Exec-managerial            Wife   White   \n\n           sex  capital_gain  capital_loss  hours_per_week  native_country  \\\n0         Male             0             0              13   United-States   \n1         Male             0             0              40   United-States   \n2         Male             0             0              40   United-States   \n3       Female             0             0              40            Cuba   \n4       Female             0             0              40   United-States   \n...        ...           ...           ...             ...             ...   \n32555   Female             0             0              38   United-States   \n32556     Male             0             0              40   United-States   \n32557   Female             0             0              40   United-States   \n32558     Male             0             0              20   United-States   \n32559   Female         15024             0              40   United-States   \n\n      wage_class  \n0          <=50K  \n1          <=50K  \n2          <=50K  \n3          <=50K  \n4          <=50K  \n...          ...  \n32555      <=50K  \n32556       >50K  \n32557      <=50K  \n32558      <=50K  \n32559       >50K  \n\n[32560 rows x 15 columns]",
      "text/html": "<div>\n<style scoped>\n    .dataframe tbody tr th:only-of-type {\n        vertical-align: middle;\n    }\n\n    .dataframe tbody tr th {\n        vertical-align: top;\n    }\n\n    .dataframe thead th {\n        text-align: right;\n    }\n</style>\n<table border=\"1\" class=\"dataframe\">\n  <thead>\n    <tr style=\"text-align: right;\">\n      <th></th>\n      <th>age</th>\n      <th>workclass</th>\n      <th>FinalWeight</th>\n      <th>education</th>\n      <th>education_num</th>\n      <th>marital_status</th>\n      <th>occupation</th>\n      <th>relationship</th>\n      <th>race</th>\n      <th>sex</th>\n      <th>capital_gain</th>\n      <th>capital_loss</th>\n      <th>hours_per_week</th>\n      <th>native_country</th>\n      <th>wage_class</th>\n    </tr>\n  </thead>\n  <tbody>\n    <tr>\n      <th>0</th>\n      <td>50</td>\n      <td>Self-emp-not-inc</td>\n      <td>83311</td>\n      <td>Bachelors</td>\n      <td>13</td>\n      <td>Married-civ-spouse</td>\n      <td>Exec-managerial</td>\n      <td>Husband</td>\n      <td>White</td>\n      <td>Male</td>\n      <td>0</td>\n      <td>0</td>\n      <td>13</td>\n      <td>United-States</td>\n      <td>&lt;=50K</td>\n    </tr>\n    <tr>\n      <th>1</th>\n      <td>38</td>\n      <td>Private</td>\n      <td>215646</td>\n      <td>HS-grad</td>\n      <td>9</td>\n      <td>Divorced</td>\n      <td>Handlers-cleaners</td>\n      <td>Not-in-family</td>\n      <td>White</td>\n      <td>Male</td>\n      <td>0</td>\n      <td>0</td>\n      <td>40</td>\n      <td>United-States</td>\n      <td>&lt;=50K</td>\n    </tr>\n    <tr>\n      <th>2</th>\n      <td>53</td>\n      <td>Private</td>\n      <td>234721</td>\n      <td>11th</td>\n      <td>7</td>\n      <td>Married-civ-spouse</td>\n      <td>Handlers-cleaners</td>\n      <td>Husband</td>\n      <td>Black</td>\n      <td>Male</td>\n      <td>0</td>\n      <td>0</td>\n      <td>40</td>\n      <td>United-States</td>\n      <td>&lt;=50K</td>\n    </tr>\n    <tr>\n      <th>3</th>\n      <td>28</td>\n      <td>Private</td>\n      <td>338409</td>\n      <td>Bachelors</td>\n      <td>13</td>\n      <td>Married-civ-spouse</td>\n      <td>Prof-specialty</td>\n      <td>Wife</td>\n      <td>Black</td>\n      <td>Female</td>\n      <td>0</td>\n      <td>0</td>\n      <td>40</td>\n      <td>Cuba</td>\n      <td>&lt;=50K</td>\n    </tr>\n    <tr>\n      <th>4</th>\n      <td>37</td>\n      <td>Private</td>\n      <td>284582</td>\n      <td>Masters</td>\n      <td>14</td>\n      <td>Married-civ-spouse</td>\n      <td>Exec-managerial</td>\n      <td>Wife</td>\n      <td>White</td>\n      <td>Female</td>\n      <td>0</td>\n      <td>0</td>\n      <td>40</td>\n      <td>United-States</td>\n      <td>&lt;=50K</td>\n    </tr>\n    <tr>\n      <th>...</th>\n      <td>...</td>\n      <td>...</td>\n      <td>...</td>\n      <td>...</td>\n      <td>...</td>\n      <td>...</td>\n      <td>...</td>\n      <td>...</td>\n      <td>...</td>\n      <td>...</td>\n      <td>...</td>\n      <td>...</td>\n      <td>...</td>\n      <td>...</td>\n      <td>...</td>\n    </tr>\n    <tr>\n      <th>32555</th>\n      <td>27</td>\n      <td>Private</td>\n      <td>257302</td>\n      <td>Assoc-acdm</td>\n      <td>12</td>\n      <td>Married-civ-spouse</td>\n      <td>Tech-support</td>\n      <td>Wife</td>\n      <td>White</td>\n      <td>Female</td>\n      <td>0</td>\n      <td>0</td>\n      <td>38</td>\n      <td>United-States</td>\n      <td>&lt;=50K</td>\n    </tr>\n    <tr>\n      <th>32556</th>\n      <td>40</td>\n      <td>Private</td>\n      <td>154374</td>\n      <td>HS-grad</td>\n      <td>9</td>\n      <td>Married-civ-spouse</td>\n      <td>Machine-op-inspct</td>\n      <td>Husband</td>\n      <td>White</td>\n      <td>Male</td>\n      <td>0</td>\n      <td>0</td>\n      <td>40</td>\n      <td>United-States</td>\n      <td>&gt;50K</td>\n    </tr>\n    <tr>\n      <th>32557</th>\n      <td>58</td>\n      <td>Private</td>\n      <td>151910</td>\n      <td>HS-grad</td>\n      <td>9</td>\n      <td>Widowed</td>\n      <td>Adm-clerical</td>\n      <td>Unmarried</td>\n      <td>White</td>\n      <td>Female</td>\n      <td>0</td>\n      <td>0</td>\n      <td>40</td>\n      <td>United-States</td>\n      <td>&lt;=50K</td>\n    </tr>\n    <tr>\n      <th>32558</th>\n      <td>22</td>\n      <td>Private</td>\n      <td>201490</td>\n      <td>HS-grad</td>\n      <td>9</td>\n      <td>Never-married</td>\n      <td>Adm-clerical</td>\n      <td>Own-child</td>\n      <td>White</td>\n      <td>Male</td>\n      <td>0</td>\n      <td>0</td>\n      <td>20</td>\n      <td>United-States</td>\n      <td>&lt;=50K</td>\n    </tr>\n    <tr>\n      <th>32559</th>\n      <td>52</td>\n      <td>Self-emp-inc</td>\n      <td>287927</td>\n      <td>HS-grad</td>\n      <td>9</td>\n      <td>Married-civ-spouse</td>\n      <td>Exec-managerial</td>\n      <td>Wife</td>\n      <td>White</td>\n      <td>Female</td>\n      <td>15024</td>\n      <td>0</td>\n      <td>40</td>\n      <td>United-States</td>\n      <td>&gt;50K</td>\n    </tr>\n  </tbody>\n</table>\n<p>32560 rows × 15 columns</p>\n</div>"
     },
     "metadata": {},
     "execution_count": 4
    }
   ],
   "source": [
    "tr"
   ]
  },
  {
   "cell_type": "code",
   "execution_count": 5,
   "metadata": {},
   "outputs": [
    {
     "output_type": "execute_result",
     "data": {
      "text/plain": "       age      workclass  FinalWeight      education  education_num  \\\n0       38        Private        89814        HS-grad              9   \n1       28      Local-gov       336951     Assoc-acdm             12   \n2       44        Private       160323   Some-college             10   \n3       18              ?       103497   Some-college             10   \n4       34        Private       198693           10th              6   \n...    ...            ...          ...            ...            ...   \n16275   39        Private       215419      Bachelors             13   \n16276   64              ?       321403        HS-grad              9   \n16277   38        Private       374983      Bachelors             13   \n16278   44        Private        83891      Bachelors             13   \n16279   35   Self-emp-inc       182148      Bachelors             13   \n\n            marital_status          occupation     relationship  \\\n0       Married-civ-spouse     Farming-fishing          Husband   \n1       Married-civ-spouse     Protective-serv          Husband   \n2       Married-civ-spouse   Machine-op-inspct          Husband   \n3            Never-married                   ?        Own-child   \n4            Never-married       Other-service    Not-in-family   \n...                    ...                 ...              ...   \n16275             Divorced      Prof-specialty    Not-in-family   \n16276              Widowed                   ?   Other-relative   \n16277   Married-civ-spouse      Prof-specialty          Husband   \n16278             Divorced        Adm-clerical        Own-child   \n16279   Married-civ-spouse     Exec-managerial          Husband   \n\n                      race      sex  capital_gain  capital_loss  \\\n0                    White     Male             0             0   \n1                    White     Male             0             0   \n2                    Black     Male          7688             0   \n3                    White   Female             0             0   \n4                    White     Male             0             0   \n...                    ...      ...           ...           ...   \n16275                White   Female             0             0   \n16276                Black     Male             0             0   \n16277                White     Male             0             0   \n16278   Asian-Pac-Islander     Male          5455             0   \n16279                White     Male             0             0   \n\n       hours_per_week  native_country wage_class  \n0                  50   United-States     <=50K.  \n1                  40   United-States      >50K.  \n2                  40   United-States      >50K.  \n3                  30   United-States     <=50K.  \n4                  30   United-States     <=50K.  \n...               ...             ...        ...  \n16275              36   United-States     <=50K.  \n16276              40   United-States     <=50K.  \n16277              50   United-States     <=50K.  \n16278              40   United-States     <=50K.  \n16279              60   United-States      >50K.  \n\n[16280 rows x 15 columns]",
      "text/html": "<div>\n<style scoped>\n    .dataframe tbody tr th:only-of-type {\n        vertical-align: middle;\n    }\n\n    .dataframe tbody tr th {\n        vertical-align: top;\n    }\n\n    .dataframe thead th {\n        text-align: right;\n    }\n</style>\n<table border=\"1\" class=\"dataframe\">\n  <thead>\n    <tr style=\"text-align: right;\">\n      <th></th>\n      <th>age</th>\n      <th>workclass</th>\n      <th>FinalWeight</th>\n      <th>education</th>\n      <th>education_num</th>\n      <th>marital_status</th>\n      <th>occupation</th>\n      <th>relationship</th>\n      <th>race</th>\n      <th>sex</th>\n      <th>capital_gain</th>\n      <th>capital_loss</th>\n      <th>hours_per_week</th>\n      <th>native_country</th>\n      <th>wage_class</th>\n    </tr>\n  </thead>\n  <tbody>\n    <tr>\n      <th>0</th>\n      <td>38</td>\n      <td>Private</td>\n      <td>89814</td>\n      <td>HS-grad</td>\n      <td>9</td>\n      <td>Married-civ-spouse</td>\n      <td>Farming-fishing</td>\n      <td>Husband</td>\n      <td>White</td>\n      <td>Male</td>\n      <td>0</td>\n      <td>0</td>\n      <td>50</td>\n      <td>United-States</td>\n      <td>&lt;=50K.</td>\n    </tr>\n    <tr>\n      <th>1</th>\n      <td>28</td>\n      <td>Local-gov</td>\n      <td>336951</td>\n      <td>Assoc-acdm</td>\n      <td>12</td>\n      <td>Married-civ-spouse</td>\n      <td>Protective-serv</td>\n      <td>Husband</td>\n      <td>White</td>\n      <td>Male</td>\n      <td>0</td>\n      <td>0</td>\n      <td>40</td>\n      <td>United-States</td>\n      <td>&gt;50K.</td>\n    </tr>\n    <tr>\n      <th>2</th>\n      <td>44</td>\n      <td>Private</td>\n      <td>160323</td>\n      <td>Some-college</td>\n      <td>10</td>\n      <td>Married-civ-spouse</td>\n      <td>Machine-op-inspct</td>\n      <td>Husband</td>\n      <td>Black</td>\n      <td>Male</td>\n      <td>7688</td>\n      <td>0</td>\n      <td>40</td>\n      <td>United-States</td>\n      <td>&gt;50K.</td>\n    </tr>\n    <tr>\n      <th>3</th>\n      <td>18</td>\n      <td>?</td>\n      <td>103497</td>\n      <td>Some-college</td>\n      <td>10</td>\n      <td>Never-married</td>\n      <td>?</td>\n      <td>Own-child</td>\n      <td>White</td>\n      <td>Female</td>\n      <td>0</td>\n      <td>0</td>\n      <td>30</td>\n      <td>United-States</td>\n      <td>&lt;=50K.</td>\n    </tr>\n    <tr>\n      <th>4</th>\n      <td>34</td>\n      <td>Private</td>\n      <td>198693</td>\n      <td>10th</td>\n      <td>6</td>\n      <td>Never-married</td>\n      <td>Other-service</td>\n      <td>Not-in-family</td>\n      <td>White</td>\n      <td>Male</td>\n      <td>0</td>\n      <td>0</td>\n      <td>30</td>\n      <td>United-States</td>\n      <td>&lt;=50K.</td>\n    </tr>\n    <tr>\n      <th>...</th>\n      <td>...</td>\n      <td>...</td>\n      <td>...</td>\n      <td>...</td>\n      <td>...</td>\n      <td>...</td>\n      <td>...</td>\n      <td>...</td>\n      <td>...</td>\n      <td>...</td>\n      <td>...</td>\n      <td>...</td>\n      <td>...</td>\n      <td>...</td>\n      <td>...</td>\n    </tr>\n    <tr>\n      <th>16275</th>\n      <td>39</td>\n      <td>Private</td>\n      <td>215419</td>\n      <td>Bachelors</td>\n      <td>13</td>\n      <td>Divorced</td>\n      <td>Prof-specialty</td>\n      <td>Not-in-family</td>\n      <td>White</td>\n      <td>Female</td>\n      <td>0</td>\n      <td>0</td>\n      <td>36</td>\n      <td>United-States</td>\n      <td>&lt;=50K.</td>\n    </tr>\n    <tr>\n      <th>16276</th>\n      <td>64</td>\n      <td>?</td>\n      <td>321403</td>\n      <td>HS-grad</td>\n      <td>9</td>\n      <td>Widowed</td>\n      <td>?</td>\n      <td>Other-relative</td>\n      <td>Black</td>\n      <td>Male</td>\n      <td>0</td>\n      <td>0</td>\n      <td>40</td>\n      <td>United-States</td>\n      <td>&lt;=50K.</td>\n    </tr>\n    <tr>\n      <th>16277</th>\n      <td>38</td>\n      <td>Private</td>\n      <td>374983</td>\n      <td>Bachelors</td>\n      <td>13</td>\n      <td>Married-civ-spouse</td>\n      <td>Prof-specialty</td>\n      <td>Husband</td>\n      <td>White</td>\n      <td>Male</td>\n      <td>0</td>\n      <td>0</td>\n      <td>50</td>\n      <td>United-States</td>\n      <td>&lt;=50K.</td>\n    </tr>\n    <tr>\n      <th>16278</th>\n      <td>44</td>\n      <td>Private</td>\n      <td>83891</td>\n      <td>Bachelors</td>\n      <td>13</td>\n      <td>Divorced</td>\n      <td>Adm-clerical</td>\n      <td>Own-child</td>\n      <td>Asian-Pac-Islander</td>\n      <td>Male</td>\n      <td>5455</td>\n      <td>0</td>\n      <td>40</td>\n      <td>United-States</td>\n      <td>&lt;=50K.</td>\n    </tr>\n    <tr>\n      <th>16279</th>\n      <td>35</td>\n      <td>Self-emp-inc</td>\n      <td>182148</td>\n      <td>Bachelors</td>\n      <td>13</td>\n      <td>Married-civ-spouse</td>\n      <td>Exec-managerial</td>\n      <td>Husband</td>\n      <td>White</td>\n      <td>Male</td>\n      <td>0</td>\n      <td>0</td>\n      <td>60</td>\n      <td>United-States</td>\n      <td>&gt;50K.</td>\n    </tr>\n  </tbody>\n</table>\n<p>16280 rows × 15 columns</p>\n</div>"
     },
     "metadata": {},
     "execution_count": 5
    }
   ],
   "source": [
    "te"
   ]
  },
  {
   "cell_type": "code",
   "execution_count": null,
   "metadata": {},
   "outputs": [],
   "source": []
  },
  {
   "cell_type": "markdown",
   "metadata": {},
   "source": [
    "TRAIN SET DATA CLEANING"
   ]
  },
  {
   "cell_type": "markdown",
   "metadata": {},
   "source": [
    "Removing QuestionMark(?)"
   ]
  },
  {
   "cell_type": "code",
   "execution_count": 6,
   "metadata": {},
   "outputs": [
    {
     "output_type": "execute_result",
     "data": {
      "text/plain": "age               0\nworkclass         0\nFinalWeight       0\neducation         0\neducation_num     0\nmarital_status    0\noccupation        0\nrelationship      0\nrace              0\nsex               0\ncapital_gain      0\ncapital_loss      0\nhours_per_week    0\nnative_country    0\nwage_class        0\ndtype: int64"
     },
     "metadata": {},
     "execution_count": 6
    }
   ],
   "source": [
    "tr.isnull().sum()"
   ]
  },
  {
   "cell_type": "code",
   "execution_count": 7,
   "metadata": {
    "tags": []
   },
   "outputs": [
    {
     "output_type": "stream",
     "name": "stdout",
     "text": "[50 38 53 28 37 49 52 31 42 30 23 32 40 34 25 43 54 35 59 56 19 39 20 45\n 22 48 21 24 57 44 41 29 18 47 46 36 79 27 67 33 76 17 55 61 70 64 71 68\n 66 51 58 26 60 90 75 65 77 62 63 80 72 74 69 73 81 78 88 82 83 84 85 86\n 87]\n[' Self-emp-not-inc' ' Private' ' State-gov' ' Federal-gov' ' Local-gov'\n ' ?' ' Self-emp-inc' ' Without-pay' ' Never-worked']\n[ 83311 215646 234721 ...  34066  84661 257302]\n[' Bachelors' ' HS-grad' ' 11th' ' Masters' ' 9th' ' Some-college'\n ' Assoc-acdm' ' Assoc-voc' ' 7th-8th' ' Doctorate' ' Prof-school'\n ' 5th-6th' ' 10th' ' 1st-4th' ' Preschool' ' 12th']\n[13  9  7 14  5 10 12 11  4 16 15  3  6  2  1  8]\n[' Married-civ-spouse' ' Divorced' ' Married-spouse-absent'\n ' Never-married' ' Separated' ' Married-AF-spouse' ' Widowed']\n[' Exec-managerial' ' Handlers-cleaners' ' Prof-specialty'\n ' Other-service' ' Adm-clerical' ' Sales' ' Craft-repair'\n ' Transport-moving' ' Farming-fishing' ' Machine-op-inspct'\n ' Tech-support' ' ?' ' Protective-serv' ' Armed-Forces'\n ' Priv-house-serv']\n[' Husband' ' Not-in-family' ' Wife' ' Own-child' ' Unmarried'\n ' Other-relative']\n[' White' ' Black' ' Asian-Pac-Islander' ' Amer-Indian-Eskimo' ' Other']\n[' Male' ' Female']\n[    0 14084  5178  5013  2407 14344 15024  7688 34095  4064  4386  7298\n  1409  3674  1055  3464  2050  2176  2174   594 20051  6849  4101  1111\n  8614  3411  2597 25236  4650  9386  2463  3103 10605  2964  3325  2580\n  3471  4865 99999  6514  1471  2329  2105  2885 25124 10520  2202  2961\n 27828  6767  2228  1506 13550  2635  5556  4787  3781  3137  3818  3942\n   914   401  2829  2977  4934  2062  2354  5455 15020  1424  3273 22040\n  4416  3908 10566   991  4931  1086  7430  6497   114  7896  2346  3418\n  3432  2907  1151  2414  2290 15831 41310  4508  2538  3456  6418  1848\n  3887  5721  9562  1455  2036  1831 11678  2936  2993  7443  6360  1797\n  1173  4687  6723  2009  6097  2653  1639 18481  7978  2387  5060]\n[   0 2042 1408 1902 1573 1887 1719 1762 1564 2179 1816 1980 1977 1876\n 1340 2206 1741 1485 2339 2415 1380 1721 2051 2377 1669 2352 1672  653\n 2392 1504 2001 1590 1651 1628 1848 1740 2002 1579 2258 1602  419 2547\n 2174 2205 1726 2444 1138 2238  625  213 1539  880 1668 1092 1594 3004\n 2231 1844  810 2824 2559 2057 1974  974 2149 1825 1735 1258 2129 2603\n 2282  323 4356 2246 1617 1648 2489 3770 1755 3683 2267 2080 2457  155\n 3900 2201 1944 2467 2163 2754 2472 1411]\n[13 40 16 45 50 80 30 35 60 20 52 44 15 25 38 43 55 48 58 32 70  2 22 56\n 41 28 36 24 46 42 12 65  1 10 34 75 98 33 54  8  6 64 19 18 72  5  9 47\n 37 21 26 14  4 59  7 99 53 39 62 57 78 90 66 11 49 84  3 17 68 27 85 31\n 51 77 63 23 87 88 73 89 97 94 29 96 67 82 86 91 81 76 92 61 74 95]\n[' United-States' ' Cuba' ' Jamaica' ' India' ' ?' ' Mexico' ' South'\n ' Puerto-Rico' ' Honduras' ' England' ' Canada' ' Germany' ' Iran'\n ' Philippines' ' Italy' ' Poland' ' Columbia' ' Cambodia' ' Thailand'\n ' Ecuador' ' Laos' ' Taiwan' ' Haiti' ' Portugal' ' Dominican-Republic'\n ' El-Salvador' ' France' ' Guatemala' ' China' ' Japan' ' Yugoslavia'\n ' Peru' ' Outlying-US(Guam-USVI-etc)' ' Scotland' ' Trinadad&Tobago'\n ' Greece' ' Nicaragua' ' Vietnam' ' Hong' ' Ireland' ' Hungary'\n ' Holand-Netherlands']\n[' <=50K' ' >50K']\n"
    }
   ],
   "source": [
    "print(tr['age'].unique())\n",
    "print(tr['workclass'].unique())\n",
    "print(tr['FinalWeight'].unique())\n",
    "print(tr['education'].unique())\n",
    "print(tr['education_num'].unique())\n",
    "print(tr['marital_status'].unique())\n",
    "print(tr['occupation'].unique())\n",
    "print(tr['relationship'].unique())\n",
    "print(tr['race'].unique())\n",
    "print(tr['sex'].unique())\n",
    "print(tr['capital_gain'].unique())\n",
    "print(tr['capital_loss'].unique())\n",
    "print(tr['hours_per_week'].unique())\n",
    "print(tr['native_country'].unique())\n",
    "print(tr['wage_class'].unique())\n",
    "\n"
   ]
  },
  {
   "cell_type": "code",
   "execution_count": 8,
   "metadata": {},
   "outputs": [
    {
     "output_type": "execute_result",
     "data": {
      "text/plain": "age                  0\nworkclass         1836\nFinalWeight          0\neducation            0\neducation_num        0\nmarital_status       0\noccupation        1843\nrelationship         0\nrace                 0\nsex                  0\ncapital_gain         0\ncapital_loss         0\nhours_per_week       0\nnative_country     583\nwage_class           0\ndtype: int64"
     },
     "metadata": {},
     "execution_count": 8
    }
   ],
   "source": [
    "tr.isin([' ?']).sum()"
   ]
  },
  {
   "cell_type": "code",
   "execution_count": 9,
   "metadata": {},
   "outputs": [],
   "source": [
    "tr['workclass']=tr['workclass'].replace(' ?',np.NaN)"
   ]
  },
  {
   "cell_type": "code",
   "execution_count": 10,
   "metadata": {},
   "outputs": [],
   "source": [
    "tr['workclass']=tr['workclass'].replace(' ?',np.NaN)\n",
    "tr['occupation']=tr['occupation'].replace(' ?',np.NaN)\n",
    "tr['native_country']=tr['native_country'].replace(' ?',np.NaN)"
   ]
  },
  {
   "cell_type": "code",
   "execution_count": 11,
   "metadata": {},
   "outputs": [],
   "source": [
    "tr = tr.dropna()"
   ]
  },
  {
   "cell_type": "code",
   "execution_count": 12,
   "metadata": {},
   "outputs": [
    {
     "output_type": "execute_result",
     "data": {
      "text/plain": "       age          workclass  FinalWeight    education  education_num  \\\n0       50   Self-emp-not-inc        83311    Bachelors             13   \n1       38            Private       215646      HS-grad              9   \n2       53            Private       234721         11th              7   \n3       28            Private       338409    Bachelors             13   \n4       37            Private       284582      Masters             14   \n...    ...                ...          ...          ...            ...   \n32555   27            Private       257302   Assoc-acdm             12   \n32556   40            Private       154374      HS-grad              9   \n32557   58            Private       151910      HS-grad              9   \n32558   22            Private       201490      HS-grad              9   \n32559   52       Self-emp-inc       287927      HS-grad              9   \n\n            marital_status          occupation    relationship    race  \\\n0       Married-civ-spouse     Exec-managerial         Husband   White   \n1                 Divorced   Handlers-cleaners   Not-in-family   White   \n2       Married-civ-spouse   Handlers-cleaners         Husband   Black   \n3       Married-civ-spouse      Prof-specialty            Wife   Black   \n4       Married-civ-spouse     Exec-managerial            Wife   White   \n...                    ...                 ...             ...     ...   \n32555   Married-civ-spouse        Tech-support            Wife   White   \n32556   Married-civ-spouse   Machine-op-inspct         Husband   White   \n32557              Widowed        Adm-clerical       Unmarried   White   \n32558        Never-married        Adm-clerical       Own-child   White   \n32559   Married-civ-spouse     Exec-managerial            Wife   White   \n\n           sex  capital_gain  capital_loss  hours_per_week  native_country  \\\n0         Male             0             0              13   United-States   \n1         Male             0             0              40   United-States   \n2         Male             0             0              40   United-States   \n3       Female             0             0              40            Cuba   \n4       Female             0             0              40   United-States   \n...        ...           ...           ...             ...             ...   \n32555   Female             0             0              38   United-States   \n32556     Male             0             0              40   United-States   \n32557   Female             0             0              40   United-States   \n32558     Male             0             0              20   United-States   \n32559   Female         15024             0              40   United-States   \n\n      wage_class  \n0          <=50K  \n1          <=50K  \n2          <=50K  \n3          <=50K  \n4          <=50K  \n...          ...  \n32555      <=50K  \n32556       >50K  \n32557      <=50K  \n32558      <=50K  \n32559       >50K  \n\n[30161 rows x 15 columns]",
      "text/html": "<div>\n<style scoped>\n    .dataframe tbody tr th:only-of-type {\n        vertical-align: middle;\n    }\n\n    .dataframe tbody tr th {\n        vertical-align: top;\n    }\n\n    .dataframe thead th {\n        text-align: right;\n    }\n</style>\n<table border=\"1\" class=\"dataframe\">\n  <thead>\n    <tr style=\"text-align: right;\">\n      <th></th>\n      <th>age</th>\n      <th>workclass</th>\n      <th>FinalWeight</th>\n      <th>education</th>\n      <th>education_num</th>\n      <th>marital_status</th>\n      <th>occupation</th>\n      <th>relationship</th>\n      <th>race</th>\n      <th>sex</th>\n      <th>capital_gain</th>\n      <th>capital_loss</th>\n      <th>hours_per_week</th>\n      <th>native_country</th>\n      <th>wage_class</th>\n    </tr>\n  </thead>\n  <tbody>\n    <tr>\n      <th>0</th>\n      <td>50</td>\n      <td>Self-emp-not-inc</td>\n      <td>83311</td>\n      <td>Bachelors</td>\n      <td>13</td>\n      <td>Married-civ-spouse</td>\n      <td>Exec-managerial</td>\n      <td>Husband</td>\n      <td>White</td>\n      <td>Male</td>\n      <td>0</td>\n      <td>0</td>\n      <td>13</td>\n      <td>United-States</td>\n      <td>&lt;=50K</td>\n    </tr>\n    <tr>\n      <th>1</th>\n      <td>38</td>\n      <td>Private</td>\n      <td>215646</td>\n      <td>HS-grad</td>\n      <td>9</td>\n      <td>Divorced</td>\n      <td>Handlers-cleaners</td>\n      <td>Not-in-family</td>\n      <td>White</td>\n      <td>Male</td>\n      <td>0</td>\n      <td>0</td>\n      <td>40</td>\n      <td>United-States</td>\n      <td>&lt;=50K</td>\n    </tr>\n    <tr>\n      <th>2</th>\n      <td>53</td>\n      <td>Private</td>\n      <td>234721</td>\n      <td>11th</td>\n      <td>7</td>\n      <td>Married-civ-spouse</td>\n      <td>Handlers-cleaners</td>\n      <td>Husband</td>\n      <td>Black</td>\n      <td>Male</td>\n      <td>0</td>\n      <td>0</td>\n      <td>40</td>\n      <td>United-States</td>\n      <td>&lt;=50K</td>\n    </tr>\n    <tr>\n      <th>3</th>\n      <td>28</td>\n      <td>Private</td>\n      <td>338409</td>\n      <td>Bachelors</td>\n      <td>13</td>\n      <td>Married-civ-spouse</td>\n      <td>Prof-specialty</td>\n      <td>Wife</td>\n      <td>Black</td>\n      <td>Female</td>\n      <td>0</td>\n      <td>0</td>\n      <td>40</td>\n      <td>Cuba</td>\n      <td>&lt;=50K</td>\n    </tr>\n    <tr>\n      <th>4</th>\n      <td>37</td>\n      <td>Private</td>\n      <td>284582</td>\n      <td>Masters</td>\n      <td>14</td>\n      <td>Married-civ-spouse</td>\n      <td>Exec-managerial</td>\n      <td>Wife</td>\n      <td>White</td>\n      <td>Female</td>\n      <td>0</td>\n      <td>0</td>\n      <td>40</td>\n      <td>United-States</td>\n      <td>&lt;=50K</td>\n    </tr>\n    <tr>\n      <th>...</th>\n      <td>...</td>\n      <td>...</td>\n      <td>...</td>\n      <td>...</td>\n      <td>...</td>\n      <td>...</td>\n      <td>...</td>\n      <td>...</td>\n      <td>...</td>\n      <td>...</td>\n      <td>...</td>\n      <td>...</td>\n      <td>...</td>\n      <td>...</td>\n      <td>...</td>\n    </tr>\n    <tr>\n      <th>32555</th>\n      <td>27</td>\n      <td>Private</td>\n      <td>257302</td>\n      <td>Assoc-acdm</td>\n      <td>12</td>\n      <td>Married-civ-spouse</td>\n      <td>Tech-support</td>\n      <td>Wife</td>\n      <td>White</td>\n      <td>Female</td>\n      <td>0</td>\n      <td>0</td>\n      <td>38</td>\n      <td>United-States</td>\n      <td>&lt;=50K</td>\n    </tr>\n    <tr>\n      <th>32556</th>\n      <td>40</td>\n      <td>Private</td>\n      <td>154374</td>\n      <td>HS-grad</td>\n      <td>9</td>\n      <td>Married-civ-spouse</td>\n      <td>Machine-op-inspct</td>\n      <td>Husband</td>\n      <td>White</td>\n      <td>Male</td>\n      <td>0</td>\n      <td>0</td>\n      <td>40</td>\n      <td>United-States</td>\n      <td>&gt;50K</td>\n    </tr>\n    <tr>\n      <th>32557</th>\n      <td>58</td>\n      <td>Private</td>\n      <td>151910</td>\n      <td>HS-grad</td>\n      <td>9</td>\n      <td>Widowed</td>\n      <td>Adm-clerical</td>\n      <td>Unmarried</td>\n      <td>White</td>\n      <td>Female</td>\n      <td>0</td>\n      <td>0</td>\n      <td>40</td>\n      <td>United-States</td>\n      <td>&lt;=50K</td>\n    </tr>\n    <tr>\n      <th>32558</th>\n      <td>22</td>\n      <td>Private</td>\n      <td>201490</td>\n      <td>HS-grad</td>\n      <td>9</td>\n      <td>Never-married</td>\n      <td>Adm-clerical</td>\n      <td>Own-child</td>\n      <td>White</td>\n      <td>Male</td>\n      <td>0</td>\n      <td>0</td>\n      <td>20</td>\n      <td>United-States</td>\n      <td>&lt;=50K</td>\n    </tr>\n    <tr>\n      <th>32559</th>\n      <td>52</td>\n      <td>Self-emp-inc</td>\n      <td>287927</td>\n      <td>HS-grad</td>\n      <td>9</td>\n      <td>Married-civ-spouse</td>\n      <td>Exec-managerial</td>\n      <td>Wife</td>\n      <td>White</td>\n      <td>Female</td>\n      <td>15024</td>\n      <td>0</td>\n      <td>40</td>\n      <td>United-States</td>\n      <td>&gt;50K</td>\n    </tr>\n  </tbody>\n</table>\n<p>30161 rows × 15 columns</p>\n</div>"
     },
     "metadata": {},
     "execution_count": 12
    }
   ],
   "source": [
    "tr"
   ]
  },
  {
   "cell_type": "markdown",
   "metadata": {},
   "source": []
  },
  {
   "cell_type": "markdown",
   "metadata": {},
   "source": [
    "LABEL ENCODING TRAIN DATA"
   ]
  },
  {
   "cell_type": "markdown",
   "metadata": {},
   "source": []
  },
  {
   "cell_type": "code",
   "execution_count": 13,
   "metadata": {},
   "outputs": [],
   "source": [
    "\n",
    "from sklearn.preprocessing import LabelEncoder\n",
    "lr=LabelEncoder()\n",
    "for i in tr.iloc[:,[1,3,5,6,7,8,9,13]]:\n",
    "    tr[i]=lr.fit_transform(tr[i])"
   ]
  },
  {
   "cell_type": "code",
   "execution_count": 329,
   "metadata": {},
   "outputs": [],
   "source": []
  },
  {
   "cell_type": "code",
   "execution_count": 14,
   "metadata": {},
   "outputs": [
    {
     "output_type": "execute_result",
     "data": {
      "text/plain": "       age  workclass  FinalWeight  education  education_num  marital_status  \\\n0       50          4        83311          9             13               2   \n1       38          2       215646         11              9               0   \n2       53          2       234721          1              7               2   \n3       28          2       338409          9             13               2   \n4       37          2       284582         12             14               2   \n...    ...        ...          ...        ...            ...             ...   \n32555   27          2       257302          7             12               2   \n32556   40          2       154374         11              9               2   \n32557   58          2       151910         11              9               6   \n32558   22          2       201490         11              9               4   \n32559   52          3       287927         11              9               2   \n\n       occupation  relationship  race  sex  capital_gain  capital_loss  \\\n0               3             0     4    1             0             0   \n1               5             1     4    1             0             0   \n2               5             0     2    1             0             0   \n3               9             5     2    0             0             0   \n4               3             5     4    0             0             0   \n...           ...           ...   ...  ...           ...           ...   \n32555          12             5     4    0             0             0   \n32556           6             0     4    1             0             0   \n32557           0             4     4    0             0             0   \n32558           0             3     4    1             0             0   \n32559           3             5     4    0         15024             0   \n\n       hours_per_week  native_country wage_class  \n0                  13              38      <=50K  \n1                  40              38      <=50K  \n2                  40              38      <=50K  \n3                  40               4      <=50K  \n4                  40              38      <=50K  \n...               ...             ...        ...  \n32555              38              38      <=50K  \n32556              40              38       >50K  \n32557              40              38      <=50K  \n32558              20              38      <=50K  \n32559              40              38       >50K  \n\n[30161 rows x 15 columns]",
      "text/html": "<div>\n<style scoped>\n    .dataframe tbody tr th:only-of-type {\n        vertical-align: middle;\n    }\n\n    .dataframe tbody tr th {\n        vertical-align: top;\n    }\n\n    .dataframe thead th {\n        text-align: right;\n    }\n</style>\n<table border=\"1\" class=\"dataframe\">\n  <thead>\n    <tr style=\"text-align: right;\">\n      <th></th>\n      <th>age</th>\n      <th>workclass</th>\n      <th>FinalWeight</th>\n      <th>education</th>\n      <th>education_num</th>\n      <th>marital_status</th>\n      <th>occupation</th>\n      <th>relationship</th>\n      <th>race</th>\n      <th>sex</th>\n      <th>capital_gain</th>\n      <th>capital_loss</th>\n      <th>hours_per_week</th>\n      <th>native_country</th>\n      <th>wage_class</th>\n    </tr>\n  </thead>\n  <tbody>\n    <tr>\n      <th>0</th>\n      <td>50</td>\n      <td>4</td>\n      <td>83311</td>\n      <td>9</td>\n      <td>13</td>\n      <td>2</td>\n      <td>3</td>\n      <td>0</td>\n      <td>4</td>\n      <td>1</td>\n      <td>0</td>\n      <td>0</td>\n      <td>13</td>\n      <td>38</td>\n      <td>&lt;=50K</td>\n    </tr>\n    <tr>\n      <th>1</th>\n      <td>38</td>\n      <td>2</td>\n      <td>215646</td>\n      <td>11</td>\n      <td>9</td>\n      <td>0</td>\n      <td>5</td>\n      <td>1</td>\n      <td>4</td>\n      <td>1</td>\n      <td>0</td>\n      <td>0</td>\n      <td>40</td>\n      <td>38</td>\n      <td>&lt;=50K</td>\n    </tr>\n    <tr>\n      <th>2</th>\n      <td>53</td>\n      <td>2</td>\n      <td>234721</td>\n      <td>1</td>\n      <td>7</td>\n      <td>2</td>\n      <td>5</td>\n      <td>0</td>\n      <td>2</td>\n      <td>1</td>\n      <td>0</td>\n      <td>0</td>\n      <td>40</td>\n      <td>38</td>\n      <td>&lt;=50K</td>\n    </tr>\n    <tr>\n      <th>3</th>\n      <td>28</td>\n      <td>2</td>\n      <td>338409</td>\n      <td>9</td>\n      <td>13</td>\n      <td>2</td>\n      <td>9</td>\n      <td>5</td>\n      <td>2</td>\n      <td>0</td>\n      <td>0</td>\n      <td>0</td>\n      <td>40</td>\n      <td>4</td>\n      <td>&lt;=50K</td>\n    </tr>\n    <tr>\n      <th>4</th>\n      <td>37</td>\n      <td>2</td>\n      <td>284582</td>\n      <td>12</td>\n      <td>14</td>\n      <td>2</td>\n      <td>3</td>\n      <td>5</td>\n      <td>4</td>\n      <td>0</td>\n      <td>0</td>\n      <td>0</td>\n      <td>40</td>\n      <td>38</td>\n      <td>&lt;=50K</td>\n    </tr>\n    <tr>\n      <th>...</th>\n      <td>...</td>\n      <td>...</td>\n      <td>...</td>\n      <td>...</td>\n      <td>...</td>\n      <td>...</td>\n      <td>...</td>\n      <td>...</td>\n      <td>...</td>\n      <td>...</td>\n      <td>...</td>\n      <td>...</td>\n      <td>...</td>\n      <td>...</td>\n      <td>...</td>\n    </tr>\n    <tr>\n      <th>32555</th>\n      <td>27</td>\n      <td>2</td>\n      <td>257302</td>\n      <td>7</td>\n      <td>12</td>\n      <td>2</td>\n      <td>12</td>\n      <td>5</td>\n      <td>4</td>\n      <td>0</td>\n      <td>0</td>\n      <td>0</td>\n      <td>38</td>\n      <td>38</td>\n      <td>&lt;=50K</td>\n    </tr>\n    <tr>\n      <th>32556</th>\n      <td>40</td>\n      <td>2</td>\n      <td>154374</td>\n      <td>11</td>\n      <td>9</td>\n      <td>2</td>\n      <td>6</td>\n      <td>0</td>\n      <td>4</td>\n      <td>1</td>\n      <td>0</td>\n      <td>0</td>\n      <td>40</td>\n      <td>38</td>\n      <td>&gt;50K</td>\n    </tr>\n    <tr>\n      <th>32557</th>\n      <td>58</td>\n      <td>2</td>\n      <td>151910</td>\n      <td>11</td>\n      <td>9</td>\n      <td>6</td>\n      <td>0</td>\n      <td>4</td>\n      <td>4</td>\n      <td>0</td>\n      <td>0</td>\n      <td>0</td>\n      <td>40</td>\n      <td>38</td>\n      <td>&lt;=50K</td>\n    </tr>\n    <tr>\n      <th>32558</th>\n      <td>22</td>\n      <td>2</td>\n      <td>201490</td>\n      <td>11</td>\n      <td>9</td>\n      <td>4</td>\n      <td>0</td>\n      <td>3</td>\n      <td>4</td>\n      <td>1</td>\n      <td>0</td>\n      <td>0</td>\n      <td>20</td>\n      <td>38</td>\n      <td>&lt;=50K</td>\n    </tr>\n    <tr>\n      <th>32559</th>\n      <td>52</td>\n      <td>3</td>\n      <td>287927</td>\n      <td>11</td>\n      <td>9</td>\n      <td>2</td>\n      <td>3</td>\n      <td>5</td>\n      <td>4</td>\n      <td>0</td>\n      <td>15024</td>\n      <td>0</td>\n      <td>40</td>\n      <td>38</td>\n      <td>&gt;50K</td>\n    </tr>\n  </tbody>\n</table>\n<p>30161 rows × 15 columns</p>\n</div>"
     },
     "metadata": {},
     "execution_count": 14
    }
   ],
   "source": [
    "tr"
   ]
  },
  {
   "cell_type": "code",
   "execution_count": 15,
   "metadata": {},
   "outputs": [],
   "source": [
    "tr.drop(['FinalWeight','education_num'],axis=1,inplace=True)"
   ]
  },
  {
   "cell_type": "code",
   "execution_count": 16,
   "metadata": {},
   "outputs": [
    {
     "output_type": "execute_result",
     "data": {
      "text/plain": "       age  workclass  education  marital_status  occupation  relationship  \\\n0       50          4          9               2           3             0   \n1       38          2         11               0           5             1   \n2       53          2          1               2           5             0   \n3       28          2          9               2           9             5   \n4       37          2         12               2           3             5   \n...    ...        ...        ...             ...         ...           ...   \n32555   27          2          7               2          12             5   \n32556   40          2         11               2           6             0   \n32557   58          2         11               6           0             4   \n32558   22          2         11               4           0             3   \n32559   52          3         11               2           3             5   \n\n       race  sex  capital_gain  capital_loss  hours_per_week  native_country  \\\n0         4    1             0             0              13              38   \n1         4    1             0             0              40              38   \n2         2    1             0             0              40              38   \n3         2    0             0             0              40               4   \n4         4    0             0             0              40              38   \n...     ...  ...           ...           ...             ...             ...   \n32555     4    0             0             0              38              38   \n32556     4    1             0             0              40              38   \n32557     4    0             0             0              40              38   \n32558     4    1             0             0              20              38   \n32559     4    0         15024             0              40              38   \n\n      wage_class  \n0          <=50K  \n1          <=50K  \n2          <=50K  \n3          <=50K  \n4          <=50K  \n...          ...  \n32555      <=50K  \n32556       >50K  \n32557      <=50K  \n32558      <=50K  \n32559       >50K  \n\n[30161 rows x 13 columns]",
      "text/html": "<div>\n<style scoped>\n    .dataframe tbody tr th:only-of-type {\n        vertical-align: middle;\n    }\n\n    .dataframe tbody tr th {\n        vertical-align: top;\n    }\n\n    .dataframe thead th {\n        text-align: right;\n    }\n</style>\n<table border=\"1\" class=\"dataframe\">\n  <thead>\n    <tr style=\"text-align: right;\">\n      <th></th>\n      <th>age</th>\n      <th>workclass</th>\n      <th>education</th>\n      <th>marital_status</th>\n      <th>occupation</th>\n      <th>relationship</th>\n      <th>race</th>\n      <th>sex</th>\n      <th>capital_gain</th>\n      <th>capital_loss</th>\n      <th>hours_per_week</th>\n      <th>native_country</th>\n      <th>wage_class</th>\n    </tr>\n  </thead>\n  <tbody>\n    <tr>\n      <th>0</th>\n      <td>50</td>\n      <td>4</td>\n      <td>9</td>\n      <td>2</td>\n      <td>3</td>\n      <td>0</td>\n      <td>4</td>\n      <td>1</td>\n      <td>0</td>\n      <td>0</td>\n      <td>13</td>\n      <td>38</td>\n      <td>&lt;=50K</td>\n    </tr>\n    <tr>\n      <th>1</th>\n      <td>38</td>\n      <td>2</td>\n      <td>11</td>\n      <td>0</td>\n      <td>5</td>\n      <td>1</td>\n      <td>4</td>\n      <td>1</td>\n      <td>0</td>\n      <td>0</td>\n      <td>40</td>\n      <td>38</td>\n      <td>&lt;=50K</td>\n    </tr>\n    <tr>\n      <th>2</th>\n      <td>53</td>\n      <td>2</td>\n      <td>1</td>\n      <td>2</td>\n      <td>5</td>\n      <td>0</td>\n      <td>2</td>\n      <td>1</td>\n      <td>0</td>\n      <td>0</td>\n      <td>40</td>\n      <td>38</td>\n      <td>&lt;=50K</td>\n    </tr>\n    <tr>\n      <th>3</th>\n      <td>28</td>\n      <td>2</td>\n      <td>9</td>\n      <td>2</td>\n      <td>9</td>\n      <td>5</td>\n      <td>2</td>\n      <td>0</td>\n      <td>0</td>\n      <td>0</td>\n      <td>40</td>\n      <td>4</td>\n      <td>&lt;=50K</td>\n    </tr>\n    <tr>\n      <th>4</th>\n      <td>37</td>\n      <td>2</td>\n      <td>12</td>\n      <td>2</td>\n      <td>3</td>\n      <td>5</td>\n      <td>4</td>\n      <td>0</td>\n      <td>0</td>\n      <td>0</td>\n      <td>40</td>\n      <td>38</td>\n      <td>&lt;=50K</td>\n    </tr>\n    <tr>\n      <th>...</th>\n      <td>...</td>\n      <td>...</td>\n      <td>...</td>\n      <td>...</td>\n      <td>...</td>\n      <td>...</td>\n      <td>...</td>\n      <td>...</td>\n      <td>...</td>\n      <td>...</td>\n      <td>...</td>\n      <td>...</td>\n      <td>...</td>\n    </tr>\n    <tr>\n      <th>32555</th>\n      <td>27</td>\n      <td>2</td>\n      <td>7</td>\n      <td>2</td>\n      <td>12</td>\n      <td>5</td>\n      <td>4</td>\n      <td>0</td>\n      <td>0</td>\n      <td>0</td>\n      <td>38</td>\n      <td>38</td>\n      <td>&lt;=50K</td>\n    </tr>\n    <tr>\n      <th>32556</th>\n      <td>40</td>\n      <td>2</td>\n      <td>11</td>\n      <td>2</td>\n      <td>6</td>\n      <td>0</td>\n      <td>4</td>\n      <td>1</td>\n      <td>0</td>\n      <td>0</td>\n      <td>40</td>\n      <td>38</td>\n      <td>&gt;50K</td>\n    </tr>\n    <tr>\n      <th>32557</th>\n      <td>58</td>\n      <td>2</td>\n      <td>11</td>\n      <td>6</td>\n      <td>0</td>\n      <td>4</td>\n      <td>4</td>\n      <td>0</td>\n      <td>0</td>\n      <td>0</td>\n      <td>40</td>\n      <td>38</td>\n      <td>&lt;=50K</td>\n    </tr>\n    <tr>\n      <th>32558</th>\n      <td>22</td>\n      <td>2</td>\n      <td>11</td>\n      <td>4</td>\n      <td>0</td>\n      <td>3</td>\n      <td>4</td>\n      <td>1</td>\n      <td>0</td>\n      <td>0</td>\n      <td>20</td>\n      <td>38</td>\n      <td>&lt;=50K</td>\n    </tr>\n    <tr>\n      <th>32559</th>\n      <td>52</td>\n      <td>3</td>\n      <td>11</td>\n      <td>2</td>\n      <td>3</td>\n      <td>5</td>\n      <td>4</td>\n      <td>0</td>\n      <td>15024</td>\n      <td>0</td>\n      <td>40</td>\n      <td>38</td>\n      <td>&gt;50K</td>\n    </tr>\n  </tbody>\n</table>\n<p>30161 rows × 13 columns</p>\n</div>"
     },
     "metadata": {},
     "execution_count": 16
    }
   ],
   "source": [
    "tr"
   ]
  },
  {
   "cell_type": "code",
   "execution_count": 17,
   "metadata": {},
   "outputs": [
    {
     "output_type": "execute_result",
     "data": {
      "text/plain": "array([' <=50K', ' >50K'], dtype=object)"
     },
     "metadata": {},
     "execution_count": 17
    }
   ],
   "source": [
    "tr['wage_class'].unique()"
   ]
  },
  {
   "cell_type": "code",
   "execution_count": 18,
   "metadata": {},
   "outputs": [],
   "source": [
    "tr['wage_class'] = tr['wage_class'].map({' <=50K':0,' >50K':1})"
   ]
  },
  {
   "cell_type": "code",
   "execution_count": 19,
   "metadata": {},
   "outputs": [
    {
     "output_type": "execute_result",
     "data": {
      "text/plain": "       age  workclass  education  marital_status  occupation  relationship  \\\n0       50          4          9               2           3             0   \n1       38          2         11               0           5             1   \n2       53          2          1               2           5             0   \n3       28          2          9               2           9             5   \n4       37          2         12               2           3             5   \n...    ...        ...        ...             ...         ...           ...   \n32555   27          2          7               2          12             5   \n32556   40          2         11               2           6             0   \n32557   58          2         11               6           0             4   \n32558   22          2         11               4           0             3   \n32559   52          3         11               2           3             5   \n\n       race  sex  capital_gain  capital_loss  hours_per_week  native_country  \\\n0         4    1             0             0              13              38   \n1         4    1             0             0              40              38   \n2         2    1             0             0              40              38   \n3         2    0             0             0              40               4   \n4         4    0             0             0              40              38   \n...     ...  ...           ...           ...             ...             ...   \n32555     4    0             0             0              38              38   \n32556     4    1             0             0              40              38   \n32557     4    0             0             0              40              38   \n32558     4    1             0             0              20              38   \n32559     4    0         15024             0              40              38   \n\n       wage_class  \n0               0  \n1               0  \n2               0  \n3               0  \n4               0  \n...           ...  \n32555           0  \n32556           1  \n32557           0  \n32558           0  \n32559           1  \n\n[30161 rows x 13 columns]",
      "text/html": "<div>\n<style scoped>\n    .dataframe tbody tr th:only-of-type {\n        vertical-align: middle;\n    }\n\n    .dataframe tbody tr th {\n        vertical-align: top;\n    }\n\n    .dataframe thead th {\n        text-align: right;\n    }\n</style>\n<table border=\"1\" class=\"dataframe\">\n  <thead>\n    <tr style=\"text-align: right;\">\n      <th></th>\n      <th>age</th>\n      <th>workclass</th>\n      <th>education</th>\n      <th>marital_status</th>\n      <th>occupation</th>\n      <th>relationship</th>\n      <th>race</th>\n      <th>sex</th>\n      <th>capital_gain</th>\n      <th>capital_loss</th>\n      <th>hours_per_week</th>\n      <th>native_country</th>\n      <th>wage_class</th>\n    </tr>\n  </thead>\n  <tbody>\n    <tr>\n      <th>0</th>\n      <td>50</td>\n      <td>4</td>\n      <td>9</td>\n      <td>2</td>\n      <td>3</td>\n      <td>0</td>\n      <td>4</td>\n      <td>1</td>\n      <td>0</td>\n      <td>0</td>\n      <td>13</td>\n      <td>38</td>\n      <td>0</td>\n    </tr>\n    <tr>\n      <th>1</th>\n      <td>38</td>\n      <td>2</td>\n      <td>11</td>\n      <td>0</td>\n      <td>5</td>\n      <td>1</td>\n      <td>4</td>\n      <td>1</td>\n      <td>0</td>\n      <td>0</td>\n      <td>40</td>\n      <td>38</td>\n      <td>0</td>\n    </tr>\n    <tr>\n      <th>2</th>\n      <td>53</td>\n      <td>2</td>\n      <td>1</td>\n      <td>2</td>\n      <td>5</td>\n      <td>0</td>\n      <td>2</td>\n      <td>1</td>\n      <td>0</td>\n      <td>0</td>\n      <td>40</td>\n      <td>38</td>\n      <td>0</td>\n    </tr>\n    <tr>\n      <th>3</th>\n      <td>28</td>\n      <td>2</td>\n      <td>9</td>\n      <td>2</td>\n      <td>9</td>\n      <td>5</td>\n      <td>2</td>\n      <td>0</td>\n      <td>0</td>\n      <td>0</td>\n      <td>40</td>\n      <td>4</td>\n      <td>0</td>\n    </tr>\n    <tr>\n      <th>4</th>\n      <td>37</td>\n      <td>2</td>\n      <td>12</td>\n      <td>2</td>\n      <td>3</td>\n      <td>5</td>\n      <td>4</td>\n      <td>0</td>\n      <td>0</td>\n      <td>0</td>\n      <td>40</td>\n      <td>38</td>\n      <td>0</td>\n    </tr>\n    <tr>\n      <th>...</th>\n      <td>...</td>\n      <td>...</td>\n      <td>...</td>\n      <td>...</td>\n      <td>...</td>\n      <td>...</td>\n      <td>...</td>\n      <td>...</td>\n      <td>...</td>\n      <td>...</td>\n      <td>...</td>\n      <td>...</td>\n      <td>...</td>\n    </tr>\n    <tr>\n      <th>32555</th>\n      <td>27</td>\n      <td>2</td>\n      <td>7</td>\n      <td>2</td>\n      <td>12</td>\n      <td>5</td>\n      <td>4</td>\n      <td>0</td>\n      <td>0</td>\n      <td>0</td>\n      <td>38</td>\n      <td>38</td>\n      <td>0</td>\n    </tr>\n    <tr>\n      <th>32556</th>\n      <td>40</td>\n      <td>2</td>\n      <td>11</td>\n      <td>2</td>\n      <td>6</td>\n      <td>0</td>\n      <td>4</td>\n      <td>1</td>\n      <td>0</td>\n      <td>0</td>\n      <td>40</td>\n      <td>38</td>\n      <td>1</td>\n    </tr>\n    <tr>\n      <th>32557</th>\n      <td>58</td>\n      <td>2</td>\n      <td>11</td>\n      <td>6</td>\n      <td>0</td>\n      <td>4</td>\n      <td>4</td>\n      <td>0</td>\n      <td>0</td>\n      <td>0</td>\n      <td>40</td>\n      <td>38</td>\n      <td>0</td>\n    </tr>\n    <tr>\n      <th>32558</th>\n      <td>22</td>\n      <td>2</td>\n      <td>11</td>\n      <td>4</td>\n      <td>0</td>\n      <td>3</td>\n      <td>4</td>\n      <td>1</td>\n      <td>0</td>\n      <td>0</td>\n      <td>20</td>\n      <td>38</td>\n      <td>0</td>\n    </tr>\n    <tr>\n      <th>32559</th>\n      <td>52</td>\n      <td>3</td>\n      <td>11</td>\n      <td>2</td>\n      <td>3</td>\n      <td>5</td>\n      <td>4</td>\n      <td>0</td>\n      <td>15024</td>\n      <td>0</td>\n      <td>40</td>\n      <td>38</td>\n      <td>1</td>\n    </tr>\n  </tbody>\n</table>\n<p>30161 rows × 13 columns</p>\n</div>"
     },
     "metadata": {},
     "execution_count": 19
    }
   ],
   "source": [
    "tr"
   ]
  },
  {
   "cell_type": "markdown",
   "metadata": {},
   "source": []
  },
  {
   "cell_type": "markdown",
   "metadata": {},
   "source": [
    "DATA CLEANING TEST DATASET"
   ]
  },
  {
   "cell_type": "markdown",
   "metadata": {},
   "source": []
  },
  {
   "cell_type": "code",
   "execution_count": 20,
   "metadata": {},
   "outputs": [
    {
     "output_type": "execute_result",
     "data": {
      "text/plain": "age                 0\nworkclass         963\nFinalWeight         0\neducation           0\neducation_num       0\nmarital_status      0\noccupation        966\nrelationship        0\nrace                0\nsex                 0\ncapital_gain        0\ncapital_loss        0\nhours_per_week      0\nnative_country    274\nwage_class          0\ndtype: int64"
     },
     "metadata": {},
     "execution_count": 20
    }
   ],
   "source": [
    "te.isin([' ?']).sum()"
   ]
  },
  {
   "cell_type": "code",
   "execution_count": 21,
   "metadata": {},
   "outputs": [],
   "source": [
    "\n",
    "te['workclass']=te['workclass'].replace(' ?',np.NaN )\n",
    "te['occupation']=te['occupation'].replace(' ?',np.NaN )\n",
    "te['native_country']=te['native_country'].replace(' ?',np.NaN )"
   ]
  },
  {
   "cell_type": "code",
   "execution_count": 22,
   "metadata": {},
   "outputs": [],
   "source": [
    "te = te.dropna()"
   ]
  },
  {
   "cell_type": "code",
   "execution_count": 23,
   "metadata": {},
   "outputs": [
    {
     "output_type": "execute_result",
     "data": {
      "text/plain": "       age          workclass  FinalWeight      education  education_num  \\\n0       38            Private        89814        HS-grad              9   \n1       28          Local-gov       336951     Assoc-acdm             12   \n2       44            Private       160323   Some-college             10   \n4       34            Private       198693           10th              6   \n6       63   Self-emp-not-inc       104626    Prof-school             15   \n...    ...                ...          ...            ...            ...   \n16274   33            Private       245211      Bachelors             13   \n16275   39            Private       215419      Bachelors             13   \n16277   38            Private       374983      Bachelors             13   \n16278   44            Private        83891      Bachelors             13   \n16279   35       Self-emp-inc       182148      Bachelors             13   \n\n            marital_status          occupation    relationship  \\\n0       Married-civ-spouse     Farming-fishing         Husband   \n1       Married-civ-spouse     Protective-serv         Husband   \n2       Married-civ-spouse   Machine-op-inspct         Husband   \n4            Never-married       Other-service   Not-in-family   \n6       Married-civ-spouse      Prof-specialty         Husband   \n...                    ...                 ...             ...   \n16274        Never-married      Prof-specialty       Own-child   \n16275             Divorced      Prof-specialty   Not-in-family   \n16277   Married-civ-spouse      Prof-specialty         Husband   \n16278             Divorced        Adm-clerical       Own-child   \n16279   Married-civ-spouse     Exec-managerial         Husband   \n\n                      race      sex  capital_gain  capital_loss  \\\n0                    White     Male             0             0   \n1                    White     Male             0             0   \n2                    Black     Male          7688             0   \n4                    White     Male             0             0   \n6                    White     Male          3103             0   \n...                    ...      ...           ...           ...   \n16274                White     Male             0             0   \n16275                White   Female             0             0   \n16277                White     Male             0             0   \n16278   Asian-Pac-Islander     Male          5455             0   \n16279                White     Male             0             0   \n\n       hours_per_week  native_country wage_class  \n0                  50   United-States     <=50K.  \n1                  40   United-States      >50K.  \n2                  40   United-States      >50K.  \n4                  30   United-States     <=50K.  \n6                  32   United-States      >50K.  \n...               ...             ...        ...  \n16274              40   United-States     <=50K.  \n16275              36   United-States     <=50K.  \n16277              50   United-States     <=50K.  \n16278              40   United-States     <=50K.  \n16279              60   United-States      >50K.  \n\n[15059 rows x 15 columns]",
      "text/html": "<div>\n<style scoped>\n    .dataframe tbody tr th:only-of-type {\n        vertical-align: middle;\n    }\n\n    .dataframe tbody tr th {\n        vertical-align: top;\n    }\n\n    .dataframe thead th {\n        text-align: right;\n    }\n</style>\n<table border=\"1\" class=\"dataframe\">\n  <thead>\n    <tr style=\"text-align: right;\">\n      <th></th>\n      <th>age</th>\n      <th>workclass</th>\n      <th>FinalWeight</th>\n      <th>education</th>\n      <th>education_num</th>\n      <th>marital_status</th>\n      <th>occupation</th>\n      <th>relationship</th>\n      <th>race</th>\n      <th>sex</th>\n      <th>capital_gain</th>\n      <th>capital_loss</th>\n      <th>hours_per_week</th>\n      <th>native_country</th>\n      <th>wage_class</th>\n    </tr>\n  </thead>\n  <tbody>\n    <tr>\n      <th>0</th>\n      <td>38</td>\n      <td>Private</td>\n      <td>89814</td>\n      <td>HS-grad</td>\n      <td>9</td>\n      <td>Married-civ-spouse</td>\n      <td>Farming-fishing</td>\n      <td>Husband</td>\n      <td>White</td>\n      <td>Male</td>\n      <td>0</td>\n      <td>0</td>\n      <td>50</td>\n      <td>United-States</td>\n      <td>&lt;=50K.</td>\n    </tr>\n    <tr>\n      <th>1</th>\n      <td>28</td>\n      <td>Local-gov</td>\n      <td>336951</td>\n      <td>Assoc-acdm</td>\n      <td>12</td>\n      <td>Married-civ-spouse</td>\n      <td>Protective-serv</td>\n      <td>Husband</td>\n      <td>White</td>\n      <td>Male</td>\n      <td>0</td>\n      <td>0</td>\n      <td>40</td>\n      <td>United-States</td>\n      <td>&gt;50K.</td>\n    </tr>\n    <tr>\n      <th>2</th>\n      <td>44</td>\n      <td>Private</td>\n      <td>160323</td>\n      <td>Some-college</td>\n      <td>10</td>\n      <td>Married-civ-spouse</td>\n      <td>Machine-op-inspct</td>\n      <td>Husband</td>\n      <td>Black</td>\n      <td>Male</td>\n      <td>7688</td>\n      <td>0</td>\n      <td>40</td>\n      <td>United-States</td>\n      <td>&gt;50K.</td>\n    </tr>\n    <tr>\n      <th>4</th>\n      <td>34</td>\n      <td>Private</td>\n      <td>198693</td>\n      <td>10th</td>\n      <td>6</td>\n      <td>Never-married</td>\n      <td>Other-service</td>\n      <td>Not-in-family</td>\n      <td>White</td>\n      <td>Male</td>\n      <td>0</td>\n      <td>0</td>\n      <td>30</td>\n      <td>United-States</td>\n      <td>&lt;=50K.</td>\n    </tr>\n    <tr>\n      <th>6</th>\n      <td>63</td>\n      <td>Self-emp-not-inc</td>\n      <td>104626</td>\n      <td>Prof-school</td>\n      <td>15</td>\n      <td>Married-civ-spouse</td>\n      <td>Prof-specialty</td>\n      <td>Husband</td>\n      <td>White</td>\n      <td>Male</td>\n      <td>3103</td>\n      <td>0</td>\n      <td>32</td>\n      <td>United-States</td>\n      <td>&gt;50K.</td>\n    </tr>\n    <tr>\n      <th>...</th>\n      <td>...</td>\n      <td>...</td>\n      <td>...</td>\n      <td>...</td>\n      <td>...</td>\n      <td>...</td>\n      <td>...</td>\n      <td>...</td>\n      <td>...</td>\n      <td>...</td>\n      <td>...</td>\n      <td>...</td>\n      <td>...</td>\n      <td>...</td>\n      <td>...</td>\n    </tr>\n    <tr>\n      <th>16274</th>\n      <td>33</td>\n      <td>Private</td>\n      <td>245211</td>\n      <td>Bachelors</td>\n      <td>13</td>\n      <td>Never-married</td>\n      <td>Prof-specialty</td>\n      <td>Own-child</td>\n      <td>White</td>\n      <td>Male</td>\n      <td>0</td>\n      <td>0</td>\n      <td>40</td>\n      <td>United-States</td>\n      <td>&lt;=50K.</td>\n    </tr>\n    <tr>\n      <th>16275</th>\n      <td>39</td>\n      <td>Private</td>\n      <td>215419</td>\n      <td>Bachelors</td>\n      <td>13</td>\n      <td>Divorced</td>\n      <td>Prof-specialty</td>\n      <td>Not-in-family</td>\n      <td>White</td>\n      <td>Female</td>\n      <td>0</td>\n      <td>0</td>\n      <td>36</td>\n      <td>United-States</td>\n      <td>&lt;=50K.</td>\n    </tr>\n    <tr>\n      <th>16277</th>\n      <td>38</td>\n      <td>Private</td>\n      <td>374983</td>\n      <td>Bachelors</td>\n      <td>13</td>\n      <td>Married-civ-spouse</td>\n      <td>Prof-specialty</td>\n      <td>Husband</td>\n      <td>White</td>\n      <td>Male</td>\n      <td>0</td>\n      <td>0</td>\n      <td>50</td>\n      <td>United-States</td>\n      <td>&lt;=50K.</td>\n    </tr>\n    <tr>\n      <th>16278</th>\n      <td>44</td>\n      <td>Private</td>\n      <td>83891</td>\n      <td>Bachelors</td>\n      <td>13</td>\n      <td>Divorced</td>\n      <td>Adm-clerical</td>\n      <td>Own-child</td>\n      <td>Asian-Pac-Islander</td>\n      <td>Male</td>\n      <td>5455</td>\n      <td>0</td>\n      <td>40</td>\n      <td>United-States</td>\n      <td>&lt;=50K.</td>\n    </tr>\n    <tr>\n      <th>16279</th>\n      <td>35</td>\n      <td>Self-emp-inc</td>\n      <td>182148</td>\n      <td>Bachelors</td>\n      <td>13</td>\n      <td>Married-civ-spouse</td>\n      <td>Exec-managerial</td>\n      <td>Husband</td>\n      <td>White</td>\n      <td>Male</td>\n      <td>0</td>\n      <td>0</td>\n      <td>60</td>\n      <td>United-States</td>\n      <td>&gt;50K.</td>\n    </tr>\n  </tbody>\n</table>\n<p>15059 rows × 15 columns</p>\n</div>"
     },
     "metadata": {},
     "execution_count": 23
    }
   ],
   "source": [
    "te"
   ]
  },
  {
   "cell_type": "markdown",
   "metadata": {},
   "source": []
  },
  {
   "cell_type": "markdown",
   "metadata": {},
   "source": [
    "LabelEncoding TestDataset"
   ]
  },
  {
   "cell_type": "markdown",
   "metadata": {},
   "source": []
  },
  {
   "cell_type": "code",
   "execution_count": 24,
   "metadata": {},
   "outputs": [],
   "source": [
    "from sklearn.preprocessing import LabelEncoder\n",
    "lr=LabelEncoder()\n",
    "for i in te.iloc[:,[1,3,5,6,7,8,9,13]]:\n",
    "    te[i]=lr.fit_transform(te[i])"
   ]
  },
  {
   "cell_type": "code",
   "execution_count": 25,
   "metadata": {},
   "outputs": [
    {
     "output_type": "execute_result",
     "data": {
      "text/plain": "       age  workclass  FinalWeight  education  education_num  marital_status  \\\n0       38          2        89814         11              9               2   \n1       28          1       336951          7             12               2   \n2       44          2       160323         15             10               2   \n4       34          2       198693          0              6               4   \n6       63          4       104626         14             15               2   \n...    ...        ...          ...        ...            ...             ...   \n16274   33          2       245211          9             13               4   \n16275   39          2       215419          9             13               0   \n16277   38          2       374983          9             13               2   \n16278   44          2        83891          9             13               0   \n16279   35          3       182148          9             13               2   \n\n       occupation  relationship  race  sex  capital_gain  capital_loss  \\\n0               4             0     4    1             0             0   \n1              10             0     4    1             0             0   \n2               6             0     2    1          7688             0   \n4               7             1     4    1             0             0   \n6               9             0     4    1          3103             0   \n...           ...           ...   ...  ...           ...           ...   \n16274           9             3     4    1             0             0   \n16275           9             1     4    0             0             0   \n16277           9             0     4    1             0             0   \n16278           0             3     1    1          5455             0   \n16279           3             0     4    1             0             0   \n\n       hours_per_week  native_country wage_class  \n0                  50              37     <=50K.  \n1                  40              37      >50K.  \n2                  40              37      >50K.  \n4                  30              37     <=50K.  \n6                  32              37      >50K.  \n...               ...             ...        ...  \n16274              40              37     <=50K.  \n16275              36              37     <=50K.  \n16277              50              37     <=50K.  \n16278              40              37     <=50K.  \n16279              60              37      >50K.  \n\n[15059 rows x 15 columns]",
      "text/html": "<div>\n<style scoped>\n    .dataframe tbody tr th:only-of-type {\n        vertical-align: middle;\n    }\n\n    .dataframe tbody tr th {\n        vertical-align: top;\n    }\n\n    .dataframe thead th {\n        text-align: right;\n    }\n</style>\n<table border=\"1\" class=\"dataframe\">\n  <thead>\n    <tr style=\"text-align: right;\">\n      <th></th>\n      <th>age</th>\n      <th>workclass</th>\n      <th>FinalWeight</th>\n      <th>education</th>\n      <th>education_num</th>\n      <th>marital_status</th>\n      <th>occupation</th>\n      <th>relationship</th>\n      <th>race</th>\n      <th>sex</th>\n      <th>capital_gain</th>\n      <th>capital_loss</th>\n      <th>hours_per_week</th>\n      <th>native_country</th>\n      <th>wage_class</th>\n    </tr>\n  </thead>\n  <tbody>\n    <tr>\n      <th>0</th>\n      <td>38</td>\n      <td>2</td>\n      <td>89814</td>\n      <td>11</td>\n      <td>9</td>\n      <td>2</td>\n      <td>4</td>\n      <td>0</td>\n      <td>4</td>\n      <td>1</td>\n      <td>0</td>\n      <td>0</td>\n      <td>50</td>\n      <td>37</td>\n      <td>&lt;=50K.</td>\n    </tr>\n    <tr>\n      <th>1</th>\n      <td>28</td>\n      <td>1</td>\n      <td>336951</td>\n      <td>7</td>\n      <td>12</td>\n      <td>2</td>\n      <td>10</td>\n      <td>0</td>\n      <td>4</td>\n      <td>1</td>\n      <td>0</td>\n      <td>0</td>\n      <td>40</td>\n      <td>37</td>\n      <td>&gt;50K.</td>\n    </tr>\n    <tr>\n      <th>2</th>\n      <td>44</td>\n      <td>2</td>\n      <td>160323</td>\n      <td>15</td>\n      <td>10</td>\n      <td>2</td>\n      <td>6</td>\n      <td>0</td>\n      <td>2</td>\n      <td>1</td>\n      <td>7688</td>\n      <td>0</td>\n      <td>40</td>\n      <td>37</td>\n      <td>&gt;50K.</td>\n    </tr>\n    <tr>\n      <th>4</th>\n      <td>34</td>\n      <td>2</td>\n      <td>198693</td>\n      <td>0</td>\n      <td>6</td>\n      <td>4</td>\n      <td>7</td>\n      <td>1</td>\n      <td>4</td>\n      <td>1</td>\n      <td>0</td>\n      <td>0</td>\n      <td>30</td>\n      <td>37</td>\n      <td>&lt;=50K.</td>\n    </tr>\n    <tr>\n      <th>6</th>\n      <td>63</td>\n      <td>4</td>\n      <td>104626</td>\n      <td>14</td>\n      <td>15</td>\n      <td>2</td>\n      <td>9</td>\n      <td>0</td>\n      <td>4</td>\n      <td>1</td>\n      <td>3103</td>\n      <td>0</td>\n      <td>32</td>\n      <td>37</td>\n      <td>&gt;50K.</td>\n    </tr>\n    <tr>\n      <th>...</th>\n      <td>...</td>\n      <td>...</td>\n      <td>...</td>\n      <td>...</td>\n      <td>...</td>\n      <td>...</td>\n      <td>...</td>\n      <td>...</td>\n      <td>...</td>\n      <td>...</td>\n      <td>...</td>\n      <td>...</td>\n      <td>...</td>\n      <td>...</td>\n      <td>...</td>\n    </tr>\n    <tr>\n      <th>16274</th>\n      <td>33</td>\n      <td>2</td>\n      <td>245211</td>\n      <td>9</td>\n      <td>13</td>\n      <td>4</td>\n      <td>9</td>\n      <td>3</td>\n      <td>4</td>\n      <td>1</td>\n      <td>0</td>\n      <td>0</td>\n      <td>40</td>\n      <td>37</td>\n      <td>&lt;=50K.</td>\n    </tr>\n    <tr>\n      <th>16275</th>\n      <td>39</td>\n      <td>2</td>\n      <td>215419</td>\n      <td>9</td>\n      <td>13</td>\n      <td>0</td>\n      <td>9</td>\n      <td>1</td>\n      <td>4</td>\n      <td>0</td>\n      <td>0</td>\n      <td>0</td>\n      <td>36</td>\n      <td>37</td>\n      <td>&lt;=50K.</td>\n    </tr>\n    <tr>\n      <th>16277</th>\n      <td>38</td>\n      <td>2</td>\n      <td>374983</td>\n      <td>9</td>\n      <td>13</td>\n      <td>2</td>\n      <td>9</td>\n      <td>0</td>\n      <td>4</td>\n      <td>1</td>\n      <td>0</td>\n      <td>0</td>\n      <td>50</td>\n      <td>37</td>\n      <td>&lt;=50K.</td>\n    </tr>\n    <tr>\n      <th>16278</th>\n      <td>44</td>\n      <td>2</td>\n      <td>83891</td>\n      <td>9</td>\n      <td>13</td>\n      <td>0</td>\n      <td>0</td>\n      <td>3</td>\n      <td>1</td>\n      <td>1</td>\n      <td>5455</td>\n      <td>0</td>\n      <td>40</td>\n      <td>37</td>\n      <td>&lt;=50K.</td>\n    </tr>\n    <tr>\n      <th>16279</th>\n      <td>35</td>\n      <td>3</td>\n      <td>182148</td>\n      <td>9</td>\n      <td>13</td>\n      <td>2</td>\n      <td>3</td>\n      <td>0</td>\n      <td>4</td>\n      <td>1</td>\n      <td>0</td>\n      <td>0</td>\n      <td>60</td>\n      <td>37</td>\n      <td>&gt;50K.</td>\n    </tr>\n  </tbody>\n</table>\n<p>15059 rows × 15 columns</p>\n</div>"
     },
     "metadata": {},
     "execution_count": 25
    }
   ],
   "source": [
    "te"
   ]
  },
  {
   "cell_type": "code",
   "execution_count": 27,
   "metadata": {},
   "outputs": [],
   "source": [
    "te.drop(['FinalWeight','education_num'],axis=1,inplace=True)"
   ]
  },
  {
   "cell_type": "code",
   "execution_count": 28,
   "metadata": {},
   "outputs": [
    {
     "output_type": "execute_result",
     "data": {
      "text/plain": "       age  workclass  education  marital_status  occupation  relationship  \\\n0       38          2         11               2           4             0   \n1       28          1          7               2          10             0   \n2       44          2         15               2           6             0   \n4       34          2          0               4           7             1   \n6       63          4         14               2           9             0   \n...    ...        ...        ...             ...         ...           ...   \n16274   33          2          9               4           9             3   \n16275   39          2          9               0           9             1   \n16277   38          2          9               2           9             0   \n16278   44          2          9               0           0             3   \n16279   35          3          9               2           3             0   \n\n       race  sex  capital_gain  capital_loss  hours_per_week  native_country  \\\n0         4    1             0             0              50              37   \n1         4    1             0             0              40              37   \n2         2    1          7688             0              40              37   \n4         4    1             0             0              30              37   \n6         4    1          3103             0              32              37   \n...     ...  ...           ...           ...             ...             ...   \n16274     4    1             0             0              40              37   \n16275     4    0             0             0              36              37   \n16277     4    1             0             0              50              37   \n16278     1    1          5455             0              40              37   \n16279     4    1             0             0              60              37   \n\n      wage_class  \n0         <=50K.  \n1          >50K.  \n2          >50K.  \n4         <=50K.  \n6          >50K.  \n...          ...  \n16274     <=50K.  \n16275     <=50K.  \n16277     <=50K.  \n16278     <=50K.  \n16279      >50K.  \n\n[15059 rows x 13 columns]",
      "text/html": "<div>\n<style scoped>\n    .dataframe tbody tr th:only-of-type {\n        vertical-align: middle;\n    }\n\n    .dataframe tbody tr th {\n        vertical-align: top;\n    }\n\n    .dataframe thead th {\n        text-align: right;\n    }\n</style>\n<table border=\"1\" class=\"dataframe\">\n  <thead>\n    <tr style=\"text-align: right;\">\n      <th></th>\n      <th>age</th>\n      <th>workclass</th>\n      <th>education</th>\n      <th>marital_status</th>\n      <th>occupation</th>\n      <th>relationship</th>\n      <th>race</th>\n      <th>sex</th>\n      <th>capital_gain</th>\n      <th>capital_loss</th>\n      <th>hours_per_week</th>\n      <th>native_country</th>\n      <th>wage_class</th>\n    </tr>\n  </thead>\n  <tbody>\n    <tr>\n      <th>0</th>\n      <td>38</td>\n      <td>2</td>\n      <td>11</td>\n      <td>2</td>\n      <td>4</td>\n      <td>0</td>\n      <td>4</td>\n      <td>1</td>\n      <td>0</td>\n      <td>0</td>\n      <td>50</td>\n      <td>37</td>\n      <td>&lt;=50K.</td>\n    </tr>\n    <tr>\n      <th>1</th>\n      <td>28</td>\n      <td>1</td>\n      <td>7</td>\n      <td>2</td>\n      <td>10</td>\n      <td>0</td>\n      <td>4</td>\n      <td>1</td>\n      <td>0</td>\n      <td>0</td>\n      <td>40</td>\n      <td>37</td>\n      <td>&gt;50K.</td>\n    </tr>\n    <tr>\n      <th>2</th>\n      <td>44</td>\n      <td>2</td>\n      <td>15</td>\n      <td>2</td>\n      <td>6</td>\n      <td>0</td>\n      <td>2</td>\n      <td>1</td>\n      <td>7688</td>\n      <td>0</td>\n      <td>40</td>\n      <td>37</td>\n      <td>&gt;50K.</td>\n    </tr>\n    <tr>\n      <th>4</th>\n      <td>34</td>\n      <td>2</td>\n      <td>0</td>\n      <td>4</td>\n      <td>7</td>\n      <td>1</td>\n      <td>4</td>\n      <td>1</td>\n      <td>0</td>\n      <td>0</td>\n      <td>30</td>\n      <td>37</td>\n      <td>&lt;=50K.</td>\n    </tr>\n    <tr>\n      <th>6</th>\n      <td>63</td>\n      <td>4</td>\n      <td>14</td>\n      <td>2</td>\n      <td>9</td>\n      <td>0</td>\n      <td>4</td>\n      <td>1</td>\n      <td>3103</td>\n      <td>0</td>\n      <td>32</td>\n      <td>37</td>\n      <td>&gt;50K.</td>\n    </tr>\n    <tr>\n      <th>...</th>\n      <td>...</td>\n      <td>...</td>\n      <td>...</td>\n      <td>...</td>\n      <td>...</td>\n      <td>...</td>\n      <td>...</td>\n      <td>...</td>\n      <td>...</td>\n      <td>...</td>\n      <td>...</td>\n      <td>...</td>\n      <td>...</td>\n    </tr>\n    <tr>\n      <th>16274</th>\n      <td>33</td>\n      <td>2</td>\n      <td>9</td>\n      <td>4</td>\n      <td>9</td>\n      <td>3</td>\n      <td>4</td>\n      <td>1</td>\n      <td>0</td>\n      <td>0</td>\n      <td>40</td>\n      <td>37</td>\n      <td>&lt;=50K.</td>\n    </tr>\n    <tr>\n      <th>16275</th>\n      <td>39</td>\n      <td>2</td>\n      <td>9</td>\n      <td>0</td>\n      <td>9</td>\n      <td>1</td>\n      <td>4</td>\n      <td>0</td>\n      <td>0</td>\n      <td>0</td>\n      <td>36</td>\n      <td>37</td>\n      <td>&lt;=50K.</td>\n    </tr>\n    <tr>\n      <th>16277</th>\n      <td>38</td>\n      <td>2</td>\n      <td>9</td>\n      <td>2</td>\n      <td>9</td>\n      <td>0</td>\n      <td>4</td>\n      <td>1</td>\n      <td>0</td>\n      <td>0</td>\n      <td>50</td>\n      <td>37</td>\n      <td>&lt;=50K.</td>\n    </tr>\n    <tr>\n      <th>16278</th>\n      <td>44</td>\n      <td>2</td>\n      <td>9</td>\n      <td>0</td>\n      <td>0</td>\n      <td>3</td>\n      <td>1</td>\n      <td>1</td>\n      <td>5455</td>\n      <td>0</td>\n      <td>40</td>\n      <td>37</td>\n      <td>&lt;=50K.</td>\n    </tr>\n    <tr>\n      <th>16279</th>\n      <td>35</td>\n      <td>3</td>\n      <td>9</td>\n      <td>2</td>\n      <td>3</td>\n      <td>0</td>\n      <td>4</td>\n      <td>1</td>\n      <td>0</td>\n      <td>0</td>\n      <td>60</td>\n      <td>37</td>\n      <td>&gt;50K.</td>\n    </tr>\n  </tbody>\n</table>\n<p>15059 rows × 13 columns</p>\n</div>"
     },
     "metadata": {},
     "execution_count": 28
    }
   ],
   "source": [
    "te"
   ]
  },
  {
   "cell_type": "code",
   "execution_count": 29,
   "metadata": {},
   "outputs": [
    {
     "output_type": "execute_result",
     "data": {
      "text/plain": "array([' <=50K.', ' >50K.'], dtype=object)"
     },
     "metadata": {},
     "execution_count": 29
    }
   ],
   "source": [
    "te.wage_class.unique()"
   ]
  },
  {
   "cell_type": "code",
   "execution_count": 30,
   "metadata": {},
   "outputs": [],
   "source": [
    "te['wage_class'] = te['wage_class'].map({' <=50K.':0,' >50K.':1})"
   ]
  },
  {
   "cell_type": "code",
   "execution_count": 31,
   "metadata": {},
   "outputs": [
    {
     "output_type": "execute_result",
     "data": {
      "text/plain": "       age  workclass  education  marital_status  occupation  relationship  \\\n0       38          2         11               2           4             0   \n1       28          1          7               2          10             0   \n2       44          2         15               2           6             0   \n4       34          2          0               4           7             1   \n6       63          4         14               2           9             0   \n...    ...        ...        ...             ...         ...           ...   \n16274   33          2          9               4           9             3   \n16275   39          2          9               0           9             1   \n16277   38          2          9               2           9             0   \n16278   44          2          9               0           0             3   \n16279   35          3          9               2           3             0   \n\n       race  sex  capital_gain  capital_loss  hours_per_week  native_country  \\\n0         4    1             0             0              50              37   \n1         4    1             0             0              40              37   \n2         2    1          7688             0              40              37   \n4         4    1             0             0              30              37   \n6         4    1          3103             0              32              37   \n...     ...  ...           ...           ...             ...             ...   \n16274     4    1             0             0              40              37   \n16275     4    0             0             0              36              37   \n16277     4    1             0             0              50              37   \n16278     1    1          5455             0              40              37   \n16279     4    1             0             0              60              37   \n\n       wage_class  \n0               0  \n1               1  \n2               1  \n4               0  \n6               1  \n...           ...  \n16274           0  \n16275           0  \n16277           0  \n16278           0  \n16279           1  \n\n[15059 rows x 13 columns]",
      "text/html": "<div>\n<style scoped>\n    .dataframe tbody tr th:only-of-type {\n        vertical-align: middle;\n    }\n\n    .dataframe tbody tr th {\n        vertical-align: top;\n    }\n\n    .dataframe thead th {\n        text-align: right;\n    }\n</style>\n<table border=\"1\" class=\"dataframe\">\n  <thead>\n    <tr style=\"text-align: right;\">\n      <th></th>\n      <th>age</th>\n      <th>workclass</th>\n      <th>education</th>\n      <th>marital_status</th>\n      <th>occupation</th>\n      <th>relationship</th>\n      <th>race</th>\n      <th>sex</th>\n      <th>capital_gain</th>\n      <th>capital_loss</th>\n      <th>hours_per_week</th>\n      <th>native_country</th>\n      <th>wage_class</th>\n    </tr>\n  </thead>\n  <tbody>\n    <tr>\n      <th>0</th>\n      <td>38</td>\n      <td>2</td>\n      <td>11</td>\n      <td>2</td>\n      <td>4</td>\n      <td>0</td>\n      <td>4</td>\n      <td>1</td>\n      <td>0</td>\n      <td>0</td>\n      <td>50</td>\n      <td>37</td>\n      <td>0</td>\n    </tr>\n    <tr>\n      <th>1</th>\n      <td>28</td>\n      <td>1</td>\n      <td>7</td>\n      <td>2</td>\n      <td>10</td>\n      <td>0</td>\n      <td>4</td>\n      <td>1</td>\n      <td>0</td>\n      <td>0</td>\n      <td>40</td>\n      <td>37</td>\n      <td>1</td>\n    </tr>\n    <tr>\n      <th>2</th>\n      <td>44</td>\n      <td>2</td>\n      <td>15</td>\n      <td>2</td>\n      <td>6</td>\n      <td>0</td>\n      <td>2</td>\n      <td>1</td>\n      <td>7688</td>\n      <td>0</td>\n      <td>40</td>\n      <td>37</td>\n      <td>1</td>\n    </tr>\n    <tr>\n      <th>4</th>\n      <td>34</td>\n      <td>2</td>\n      <td>0</td>\n      <td>4</td>\n      <td>7</td>\n      <td>1</td>\n      <td>4</td>\n      <td>1</td>\n      <td>0</td>\n      <td>0</td>\n      <td>30</td>\n      <td>37</td>\n      <td>0</td>\n    </tr>\n    <tr>\n      <th>6</th>\n      <td>63</td>\n      <td>4</td>\n      <td>14</td>\n      <td>2</td>\n      <td>9</td>\n      <td>0</td>\n      <td>4</td>\n      <td>1</td>\n      <td>3103</td>\n      <td>0</td>\n      <td>32</td>\n      <td>37</td>\n      <td>1</td>\n    </tr>\n    <tr>\n      <th>...</th>\n      <td>...</td>\n      <td>...</td>\n      <td>...</td>\n      <td>...</td>\n      <td>...</td>\n      <td>...</td>\n      <td>...</td>\n      <td>...</td>\n      <td>...</td>\n      <td>...</td>\n      <td>...</td>\n      <td>...</td>\n      <td>...</td>\n    </tr>\n    <tr>\n      <th>16274</th>\n      <td>33</td>\n      <td>2</td>\n      <td>9</td>\n      <td>4</td>\n      <td>9</td>\n      <td>3</td>\n      <td>4</td>\n      <td>1</td>\n      <td>0</td>\n      <td>0</td>\n      <td>40</td>\n      <td>37</td>\n      <td>0</td>\n    </tr>\n    <tr>\n      <th>16275</th>\n      <td>39</td>\n      <td>2</td>\n      <td>9</td>\n      <td>0</td>\n      <td>9</td>\n      <td>1</td>\n      <td>4</td>\n      <td>0</td>\n      <td>0</td>\n      <td>0</td>\n      <td>36</td>\n      <td>37</td>\n      <td>0</td>\n    </tr>\n    <tr>\n      <th>16277</th>\n      <td>38</td>\n      <td>2</td>\n      <td>9</td>\n      <td>2</td>\n      <td>9</td>\n      <td>0</td>\n      <td>4</td>\n      <td>1</td>\n      <td>0</td>\n      <td>0</td>\n      <td>50</td>\n      <td>37</td>\n      <td>0</td>\n    </tr>\n    <tr>\n      <th>16278</th>\n      <td>44</td>\n      <td>2</td>\n      <td>9</td>\n      <td>0</td>\n      <td>0</td>\n      <td>3</td>\n      <td>1</td>\n      <td>1</td>\n      <td>5455</td>\n      <td>0</td>\n      <td>40</td>\n      <td>37</td>\n      <td>0</td>\n    </tr>\n    <tr>\n      <th>16279</th>\n      <td>35</td>\n      <td>3</td>\n      <td>9</td>\n      <td>2</td>\n      <td>3</td>\n      <td>0</td>\n      <td>4</td>\n      <td>1</td>\n      <td>0</td>\n      <td>0</td>\n      <td>60</td>\n      <td>37</td>\n      <td>1</td>\n    </tr>\n  </tbody>\n</table>\n<p>15059 rows × 13 columns</p>\n</div>"
     },
     "metadata": {},
     "execution_count": 31
    }
   ],
   "source": [
    "te"
   ]
  },
  {
   "cell_type": "markdown",
   "metadata": {},
   "source": []
  },
  {
   "cell_type": "markdown",
   "metadata": {},
   "source": [
    "#Test Train Split"
   ]
  },
  {
   "cell_type": "markdown",
   "metadata": {},
   "source": []
  },
  {
   "cell_type": "markdown",
   "metadata": {},
   "source": []
  },
  {
   "cell_type": "code",
   "execution_count": 32,
   "metadata": {},
   "outputs": [],
   "source": [
    "X_train = tr.iloc[:,:-1]\n",
    "y_train = tr.iloc[:,-1]\n",
    "X_test = te.iloc[:,:-1]\n",
    "y_test = te.iloc[:,-1]"
   ]
  },
  {
   "cell_type": "code",
   "execution_count": 33,
   "metadata": {},
   "outputs": [
    {
     "output_type": "execute_result",
     "data": {
      "text/plain": "       age  workclass  education  marital_status  occupation  relationship  \\\n0       50          4          9               2           3             0   \n1       38          2         11               0           5             1   \n2       53          2          1               2           5             0   \n3       28          2          9               2           9             5   \n4       37          2         12               2           3             5   \n...    ...        ...        ...             ...         ...           ...   \n32555   27          2          7               2          12             5   \n32556   40          2         11               2           6             0   \n32557   58          2         11               6           0             4   \n32558   22          2         11               4           0             3   \n32559   52          3         11               2           3             5   \n\n       race  sex  capital_gain  capital_loss  hours_per_week  native_country  \n0         4    1             0             0              13              38  \n1         4    1             0             0              40              38  \n2         2    1             0             0              40              38  \n3         2    0             0             0              40               4  \n4         4    0             0             0              40              38  \n...     ...  ...           ...           ...             ...             ...  \n32555     4    0             0             0              38              38  \n32556     4    1             0             0              40              38  \n32557     4    0             0             0              40              38  \n32558     4    1             0             0              20              38  \n32559     4    0         15024             0              40              38  \n\n[30161 rows x 12 columns]",
      "text/html": "<div>\n<style scoped>\n    .dataframe tbody tr th:only-of-type {\n        vertical-align: middle;\n    }\n\n    .dataframe tbody tr th {\n        vertical-align: top;\n    }\n\n    .dataframe thead th {\n        text-align: right;\n    }\n</style>\n<table border=\"1\" class=\"dataframe\">\n  <thead>\n    <tr style=\"text-align: right;\">\n      <th></th>\n      <th>age</th>\n      <th>workclass</th>\n      <th>education</th>\n      <th>marital_status</th>\n      <th>occupation</th>\n      <th>relationship</th>\n      <th>race</th>\n      <th>sex</th>\n      <th>capital_gain</th>\n      <th>capital_loss</th>\n      <th>hours_per_week</th>\n      <th>native_country</th>\n    </tr>\n  </thead>\n  <tbody>\n    <tr>\n      <th>0</th>\n      <td>50</td>\n      <td>4</td>\n      <td>9</td>\n      <td>2</td>\n      <td>3</td>\n      <td>0</td>\n      <td>4</td>\n      <td>1</td>\n      <td>0</td>\n      <td>0</td>\n      <td>13</td>\n      <td>38</td>\n    </tr>\n    <tr>\n      <th>1</th>\n      <td>38</td>\n      <td>2</td>\n      <td>11</td>\n      <td>0</td>\n      <td>5</td>\n      <td>1</td>\n      <td>4</td>\n      <td>1</td>\n      <td>0</td>\n      <td>0</td>\n      <td>40</td>\n      <td>38</td>\n    </tr>\n    <tr>\n      <th>2</th>\n      <td>53</td>\n      <td>2</td>\n      <td>1</td>\n      <td>2</td>\n      <td>5</td>\n      <td>0</td>\n      <td>2</td>\n      <td>1</td>\n      <td>0</td>\n      <td>0</td>\n      <td>40</td>\n      <td>38</td>\n    </tr>\n    <tr>\n      <th>3</th>\n      <td>28</td>\n      <td>2</td>\n      <td>9</td>\n      <td>2</td>\n      <td>9</td>\n      <td>5</td>\n      <td>2</td>\n      <td>0</td>\n      <td>0</td>\n      <td>0</td>\n      <td>40</td>\n      <td>4</td>\n    </tr>\n    <tr>\n      <th>4</th>\n      <td>37</td>\n      <td>2</td>\n      <td>12</td>\n      <td>2</td>\n      <td>3</td>\n      <td>5</td>\n      <td>4</td>\n      <td>0</td>\n      <td>0</td>\n      <td>0</td>\n      <td>40</td>\n      <td>38</td>\n    </tr>\n    <tr>\n      <th>...</th>\n      <td>...</td>\n      <td>...</td>\n      <td>...</td>\n      <td>...</td>\n      <td>...</td>\n      <td>...</td>\n      <td>...</td>\n      <td>...</td>\n      <td>...</td>\n      <td>...</td>\n      <td>...</td>\n      <td>...</td>\n    </tr>\n    <tr>\n      <th>32555</th>\n      <td>27</td>\n      <td>2</td>\n      <td>7</td>\n      <td>2</td>\n      <td>12</td>\n      <td>5</td>\n      <td>4</td>\n      <td>0</td>\n      <td>0</td>\n      <td>0</td>\n      <td>38</td>\n      <td>38</td>\n    </tr>\n    <tr>\n      <th>32556</th>\n      <td>40</td>\n      <td>2</td>\n      <td>11</td>\n      <td>2</td>\n      <td>6</td>\n      <td>0</td>\n      <td>4</td>\n      <td>1</td>\n      <td>0</td>\n      <td>0</td>\n      <td>40</td>\n      <td>38</td>\n    </tr>\n    <tr>\n      <th>32557</th>\n      <td>58</td>\n      <td>2</td>\n      <td>11</td>\n      <td>6</td>\n      <td>0</td>\n      <td>4</td>\n      <td>4</td>\n      <td>0</td>\n      <td>0</td>\n      <td>0</td>\n      <td>40</td>\n      <td>38</td>\n    </tr>\n    <tr>\n      <th>32558</th>\n      <td>22</td>\n      <td>2</td>\n      <td>11</td>\n      <td>4</td>\n      <td>0</td>\n      <td>3</td>\n      <td>4</td>\n      <td>1</td>\n      <td>0</td>\n      <td>0</td>\n      <td>20</td>\n      <td>38</td>\n    </tr>\n    <tr>\n      <th>32559</th>\n      <td>52</td>\n      <td>3</td>\n      <td>11</td>\n      <td>2</td>\n      <td>3</td>\n      <td>5</td>\n      <td>4</td>\n      <td>0</td>\n      <td>15024</td>\n      <td>0</td>\n      <td>40</td>\n      <td>38</td>\n    </tr>\n  </tbody>\n</table>\n<p>30161 rows × 12 columns</p>\n</div>"
     },
     "metadata": {},
     "execution_count": 33
    }
   ],
   "source": [
    "X_train"
   ]
  },
  {
   "cell_type": "code",
   "execution_count": 34,
   "metadata": {},
   "outputs": [
    {
     "output_type": "execute_result",
     "data": {
      "text/plain": "0        0\n1        0\n2        0\n3        0\n4        0\n        ..\n32555    0\n32556    1\n32557    0\n32558    0\n32559    1\nName: wage_class, Length: 30161, dtype: int64"
     },
     "metadata": {},
     "execution_count": 34
    }
   ],
   "source": [
    "y_train"
   ]
  },
  {
   "cell_type": "code",
   "execution_count": 35,
   "metadata": {},
   "outputs": [
    {
     "output_type": "execute_result",
     "data": {
      "text/plain": "       age  workclass  education  marital_status  occupation  relationship  \\\n0       38          2         11               2           4             0   \n1       28          1          7               2          10             0   \n2       44          2         15               2           6             0   \n4       34          2          0               4           7             1   \n6       63          4         14               2           9             0   \n...    ...        ...        ...             ...         ...           ...   \n16274   33          2          9               4           9             3   \n16275   39          2          9               0           9             1   \n16277   38          2          9               2           9             0   \n16278   44          2          9               0           0             3   \n16279   35          3          9               2           3             0   \n\n       race  sex  capital_gain  capital_loss  hours_per_week  native_country  \n0         4    1             0             0              50              37  \n1         4    1             0             0              40              37  \n2         2    1          7688             0              40              37  \n4         4    1             0             0              30              37  \n6         4    1          3103             0              32              37  \n...     ...  ...           ...           ...             ...             ...  \n16274     4    1             0             0              40              37  \n16275     4    0             0             0              36              37  \n16277     4    1             0             0              50              37  \n16278     1    1          5455             0              40              37  \n16279     4    1             0             0              60              37  \n\n[15059 rows x 12 columns]",
      "text/html": "<div>\n<style scoped>\n    .dataframe tbody tr th:only-of-type {\n        vertical-align: middle;\n    }\n\n    .dataframe tbody tr th {\n        vertical-align: top;\n    }\n\n    .dataframe thead th {\n        text-align: right;\n    }\n</style>\n<table border=\"1\" class=\"dataframe\">\n  <thead>\n    <tr style=\"text-align: right;\">\n      <th></th>\n      <th>age</th>\n      <th>workclass</th>\n      <th>education</th>\n      <th>marital_status</th>\n      <th>occupation</th>\n      <th>relationship</th>\n      <th>race</th>\n      <th>sex</th>\n      <th>capital_gain</th>\n      <th>capital_loss</th>\n      <th>hours_per_week</th>\n      <th>native_country</th>\n    </tr>\n  </thead>\n  <tbody>\n    <tr>\n      <th>0</th>\n      <td>38</td>\n      <td>2</td>\n      <td>11</td>\n      <td>2</td>\n      <td>4</td>\n      <td>0</td>\n      <td>4</td>\n      <td>1</td>\n      <td>0</td>\n      <td>0</td>\n      <td>50</td>\n      <td>37</td>\n    </tr>\n    <tr>\n      <th>1</th>\n      <td>28</td>\n      <td>1</td>\n      <td>7</td>\n      <td>2</td>\n      <td>10</td>\n      <td>0</td>\n      <td>4</td>\n      <td>1</td>\n      <td>0</td>\n      <td>0</td>\n      <td>40</td>\n      <td>37</td>\n    </tr>\n    <tr>\n      <th>2</th>\n      <td>44</td>\n      <td>2</td>\n      <td>15</td>\n      <td>2</td>\n      <td>6</td>\n      <td>0</td>\n      <td>2</td>\n      <td>1</td>\n      <td>7688</td>\n      <td>0</td>\n      <td>40</td>\n      <td>37</td>\n    </tr>\n    <tr>\n      <th>4</th>\n      <td>34</td>\n      <td>2</td>\n      <td>0</td>\n      <td>4</td>\n      <td>7</td>\n      <td>1</td>\n      <td>4</td>\n      <td>1</td>\n      <td>0</td>\n      <td>0</td>\n      <td>30</td>\n      <td>37</td>\n    </tr>\n    <tr>\n      <th>6</th>\n      <td>63</td>\n      <td>4</td>\n      <td>14</td>\n      <td>2</td>\n      <td>9</td>\n      <td>0</td>\n      <td>4</td>\n      <td>1</td>\n      <td>3103</td>\n      <td>0</td>\n      <td>32</td>\n      <td>37</td>\n    </tr>\n    <tr>\n      <th>...</th>\n      <td>...</td>\n      <td>...</td>\n      <td>...</td>\n      <td>...</td>\n      <td>...</td>\n      <td>...</td>\n      <td>...</td>\n      <td>...</td>\n      <td>...</td>\n      <td>...</td>\n      <td>...</td>\n      <td>...</td>\n    </tr>\n    <tr>\n      <th>16274</th>\n      <td>33</td>\n      <td>2</td>\n      <td>9</td>\n      <td>4</td>\n      <td>9</td>\n      <td>3</td>\n      <td>4</td>\n      <td>1</td>\n      <td>0</td>\n      <td>0</td>\n      <td>40</td>\n      <td>37</td>\n    </tr>\n    <tr>\n      <th>16275</th>\n      <td>39</td>\n      <td>2</td>\n      <td>9</td>\n      <td>0</td>\n      <td>9</td>\n      <td>1</td>\n      <td>4</td>\n      <td>0</td>\n      <td>0</td>\n      <td>0</td>\n      <td>36</td>\n      <td>37</td>\n    </tr>\n    <tr>\n      <th>16277</th>\n      <td>38</td>\n      <td>2</td>\n      <td>9</td>\n      <td>2</td>\n      <td>9</td>\n      <td>0</td>\n      <td>4</td>\n      <td>1</td>\n      <td>0</td>\n      <td>0</td>\n      <td>50</td>\n      <td>37</td>\n    </tr>\n    <tr>\n      <th>16278</th>\n      <td>44</td>\n      <td>2</td>\n      <td>9</td>\n      <td>0</td>\n      <td>0</td>\n      <td>3</td>\n      <td>1</td>\n      <td>1</td>\n      <td>5455</td>\n      <td>0</td>\n      <td>40</td>\n      <td>37</td>\n    </tr>\n    <tr>\n      <th>16279</th>\n      <td>35</td>\n      <td>3</td>\n      <td>9</td>\n      <td>2</td>\n      <td>3</td>\n      <td>0</td>\n      <td>4</td>\n      <td>1</td>\n      <td>0</td>\n      <td>0</td>\n      <td>60</td>\n      <td>37</td>\n    </tr>\n  </tbody>\n</table>\n<p>15059 rows × 12 columns</p>\n</div>"
     },
     "metadata": {},
     "execution_count": 35
    }
   ],
   "source": [
    "X_test"
   ]
  },
  {
   "cell_type": "code",
   "execution_count": 36,
   "metadata": {},
   "outputs": [
    {
     "output_type": "execute_result",
     "data": {
      "text/plain": "0        0\n1        1\n2        1\n4        0\n6        1\n        ..\n16274    0\n16275    0\n16277    0\n16278    0\n16279    1\nName: wage_class, Length: 15059, dtype: int64"
     },
     "metadata": {},
     "execution_count": 36
    }
   ],
   "source": [
    "y_test"
   ]
  },
  {
   "cell_type": "markdown",
   "metadata": {},
   "source": []
  },
  {
   "cell_type": "markdown",
   "metadata": {},
   "source": []
  },
  {
   "cell_type": "markdown",
   "metadata": {},
   "source": [
    "XGBOOST MODELING"
   ]
  },
  {
   "cell_type": "markdown",
   "metadata": {},
   "source": []
  },
  {
   "cell_type": "markdown",
   "metadata": {},
   "source": []
  },
  {
   "cell_type": "code",
   "execution_count": 37,
   "metadata": {},
   "outputs": [],
   "source": [
    "from xgboost import XGBClassifier\n",
    "model = XGBClassifier()\n",
    "model.fit(X_train, y_train)\n",
    "y_pred = model.predict(X_test)"
   ]
  },
  {
   "cell_type": "code",
   "execution_count": 38,
   "metadata": {},
   "outputs": [
    {
     "output_type": "execute_result",
     "data": {
      "text/plain": "XGBClassifier(base_score=0.5, booster='gbtree', colsample_bylevel=1,\n              colsample_bynode=1, colsample_bytree=1, gamma=0, gpu_id=-1,\n              importance_type='gain', interaction_constraints='',\n              learning_rate=0.300000012, max_delta_step=0, max_depth=6,\n              min_child_weight=1, missing=nan, monotone_constraints='()',\n              n_estimators=100, n_jobs=0, num_parallel_tree=1,\n              objective='binary:logistic', random_state=0, reg_alpha=0,\n              reg_lambda=1, scale_pos_weight=1, subsample=1,\n              tree_method='exact', validate_parameters=1, verbosity=None)"
     },
     "metadata": {},
     "execution_count": 38
    }
   ],
   "source": [
    "model = XGBClassifier()\n",
    "model.fit(X_train, y_train)\n"
   ]
  },
  {
   "cell_type": "code",
   "execution_count": 39,
   "metadata": {},
   "outputs": [],
   "source": [
    "from xgboost import XGBClassifier\n"
   ]
  },
  {
   "cell_type": "code",
   "execution_count": 40,
   "metadata": {},
   "outputs": [],
   "source": [
    "y_pred = model.predict(X_test)"
   ]
  },
  {
   "cell_type": "code",
   "execution_count": 41,
   "metadata": {},
   "outputs": [
    {
     "output_type": "execute_result",
     "data": {
      "text/plain": "array([0, 1, 1, ..., 1, 0, 1], dtype=int64)"
     },
     "metadata": {},
     "execution_count": 41
    }
   ],
   "source": [
    "y_pred"
   ]
  },
  {
   "cell_type": "markdown",
   "metadata": {},
   "source": []
  },
  {
   "cell_type": "markdown",
   "metadata": {},
   "source": [
    "Accuracy_score | Confusion_matrix"
   ]
  },
  {
   "cell_type": "markdown",
   "metadata": {},
   "source": []
  },
  {
   "cell_type": "code",
   "execution_count": 42,
   "metadata": {},
   "outputs": [],
   "source": [
    "from sklearn.metrics import accuracy_score , confusion_matrix"
   ]
  },
  {
   "cell_type": "code",
   "execution_count": 43,
   "metadata": {},
   "outputs": [
    {
     "output_type": "execute_result",
     "data": {
      "text/plain": "array([[10793,   566],\n       [ 1456,  2244]], dtype=int64)"
     },
     "metadata": {},
     "execution_count": 43
    }
   ],
   "source": [
    "confusion_matrix(y_test, y_pred)\n"
   ]
  },
  {
   "cell_type": "code",
   "execution_count": 44,
   "metadata": {},
   "outputs": [
    {
     "output_type": "execute_result",
     "data": {
      "text/plain": "0.8657281359984063"
     },
     "metadata": {},
     "execution_count": 44
    }
   ],
   "source": [
    "accuracy_score(y_test, y_pred)"
   ]
  },
  {
   "cell_type": "markdown",
   "metadata": {},
   "source": []
  },
  {
   "cell_type": "markdown",
   "metadata": {},
   "source": [
    "CLASSIFICATION REPORT"
   ]
  },
  {
   "cell_type": "markdown",
   "metadata": {},
   "source": []
  },
  {
   "cell_type": "markdown",
   "metadata": {},
   "source": []
  },
  {
   "cell_type": "code",
   "execution_count": 45,
   "metadata": {},
   "outputs": [
    {
     "output_type": "execute_result",
     "data": {
      "text/plain": "'              precision    recall  f1-score   support\\n\\n           0       0.88      0.95      0.91     11359\\n           1       0.80      0.61      0.69      3700\\n\\n    accuracy                           0.87     15059\\n   macro avg       0.84      0.78      0.80     15059\\nweighted avg       0.86      0.87      0.86     15059\\n'"
     },
     "metadata": {},
     "execution_count": 45
    }
   ],
   "source": [
    "from sklearn.metrics import classification_report\n",
    "classification_report(y_test, y_pred)"
   ]
  },
  {
   "cell_type": "code",
   "execution_count": null,
   "metadata": {},
   "outputs": [],
   "source": []
  },
  {
   "cell_type": "code",
   "execution_count": null,
   "metadata": {},
   "outputs": [],
   "source": []
  }
 ]
}